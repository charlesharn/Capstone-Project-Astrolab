{
  "nbformat": 4,
  "nbformat_minor": 0,
  "metadata": {
    "colab": {
      "name": "Sentiment Analysis Story Telling CS 2021-08-02.ipynb",
      "provenance": [],
      "collapsed_sections": [],
      "include_colab_link": true
    },
    "kernelspec": {
      "name": "python3",
      "display_name": "Python 3"
    },
    "language_info": {
      "name": "python"
    }
  },
  "cells": [
    {
      "cell_type": "markdown",
      "metadata": {
        "id": "view-in-github",
        "colab_type": "text"
      },
      "source": [
        "<a href=\"https://colab.research.google.com/github/charlesharn/Capstone-Project-Astrolab/blob/main/Sentiment_Analysis_Story_Telling_CS_2021_08_02.ipynb\" target=\"_parent\"><img src=\"https://colab.research.google.com/assets/colab-badge.svg\" alt=\"Open In Colab\"/></a>"
      ]
    },
    {
      "cell_type": "markdown",
      "metadata": {
        "id": "lRIjUaGpVi5h"
      },
      "source": [
        "# Goal\n",
        "\n",
        "Noble Marketing team wants to release a survey using Ordinal Likert Scale to accurately collect data and Open ended question.  The goal of this notebook is to score the most likely score of each response from the client\n"
      ]
    },
    {
      "cell_type": "code",
      "metadata": {
        "id": "q73dNH784mK9"
      },
      "source": [
        ""
      ],
      "execution_count": 4,
      "outputs": []
    },
    {
      "cell_type": "markdown",
      "metadata": {
        "id": "exGjbv5BUzCM"
      },
      "source": [
        "# EDA\n",
        "In this section, we shall use the sample file from Amazon reviews \n",
        "#Source:\n",
        "https://s3.amazonaws.com/amazon-reviews-pds/tsv/amazon_reviews_us_Wireless_v1_00.tsv.gz\n",
        "\n",
        "this is pre-converted from .tsv to .csv from an earlier download. \n",
        "\n",
        "\n",
        "\n",
        "\n",
        "### Information About Data\n",
        "\n",
        "1. marketplace        feature\n",
        "2. customer_id        feature \n",
        "3. review_id          feature \n",
        "4. product_id         feature\n",
        "5. product_parent     feature\n",
        "6. product_title      feature\n",
        "7. product_category   feature\n",
        "8. star_rating        label\n",
        "9. helpful_votes      feature\n",
        "10. total_votes       feature\n",
        "11. vine              feature\n",
        "12. verified_purchase feature\n",
        "13. review_headline   feature \n",
        "14. review_body       feature \n",
        "15. review_date       feature "
      ]
    },
    {
      "cell_type": "code",
      "metadata": {
        "id": "dvzMD2aX8ppa"
      },
      "source": [
        "# Import libraries\n",
        "import pandas as pd\n",
        "import numpy as np\n",
        "\n",
        "# The train_test_split method will allow to split files and \n",
        "# randomly sample from the whole data\n",
        "from sklearn.model_selection import train_test_split\n",
        "\n",
        "import tensorflow_datasets as tfds\n",
        "import tensorflow as tf\n",
        "import matplotlib.pyplot as plt\n",
        "import seaborn as sns\n",
        "import plotly.express as px\n",
        "\n",
        "%matplotlib inline"
      ],
      "execution_count": 5,
      "outputs": []
    },
    {
      "cell_type": "markdown",
      "metadata": {
        "id": "OxR_q97R80Dk"
      },
      "source": [
        "# Section 1 - read csv file\n",
        "I converted the tsv file (1.1gb) into .csv file around 1mm records and 500mb file  but i planned to use at most, 20K records.\n",
        "\n",
        "procedure -cleaning data \n",
        "\n",
        "1. upload the database to colab and assign it into a data frame variable name sentimentDf. I  \n",
        "2. check the column header by executing .head()\n",
        "3. delete unimportant columns "
      ]
    },
    {
      "cell_type": "code",
      "metadata": {
        "id": "C5emXTSC8zrw"
      },
      "source": [
        "sentimentDf = pd.read_csv('./amazon_reviews_us_Wireless_sampling.csv')"
      ],
      "execution_count": null,
      "outputs": []
    },
    {
      "cell_type": "code",
      "metadata": {
        "colab": {
          "base_uri": "https://localhost:8080/"
        },
        "id": "tB5VKBm58te_",
        "outputId": "544f2fc1-5e94-4b46-e000-bdf3ba2623a7"
      },
      "source": [
        "sentimentDf.info()"
      ],
      "execution_count": 7,
      "outputs": [
        {
          "output_type": "stream",
          "text": [
            "<class 'pandas.core.frame.DataFrame'>\n",
            "RangeIndex: 19999 entries, 0 to 19998\n",
            "Data columns (total 15 columns):\n",
            " #   Column             Non-Null Count  Dtype \n",
            "---  ------             --------------  ----- \n",
            " 0   marketplace        19999 non-null  object\n",
            " 1   customer_id        19999 non-null  int64 \n",
            " 2   review_id          19999 non-null  object\n",
            " 3   product_id         19999 non-null  object\n",
            " 4   product_parent     19999 non-null  int64 \n",
            " 5   product_title      19999 non-null  object\n",
            " 6   product_category   19999 non-null  object\n",
            " 7   star_rating        19999 non-null  int64 \n",
            " 8   helpful_votes      19999 non-null  int64 \n",
            " 9   total_votes        19999 non-null  int64 \n",
            " 10  vine               19999 non-null  object\n",
            " 11  verified_purchase  19999 non-null  object\n",
            " 12  review_headline    19999 non-null  object\n",
            " 13  review_body        19995 non-null  object\n",
            " 14  review_date        19999 non-null  object\n",
            "dtypes: int64(5), object(10)\n",
            "memory usage: 2.3+ MB\n"
          ],
          "name": "stdout"
        }
      ]
    },
    {
      "cell_type": "code",
      "metadata": {
        "colab": {
          "base_uri": "https://localhost:8080/",
          "height": 530
        },
        "id": "XgFq1CHr871X",
        "outputId": "b8fe4ed9-17e6-4298-e736-4ba9249d002d"
      },
      "source": [
        "sentimentDf.head()"
      ],
      "execution_count": 8,
      "outputs": [
        {
          "output_type": "execute_result",
          "data": {
            "text/html": [
              "<div>\n",
              "<style scoped>\n",
              "    .dataframe tbody tr th:only-of-type {\n",
              "        vertical-align: middle;\n",
              "    }\n",
              "\n",
              "    .dataframe tbody tr th {\n",
              "        vertical-align: top;\n",
              "    }\n",
              "\n",
              "    .dataframe thead th {\n",
              "        text-align: right;\n",
              "    }\n",
              "</style>\n",
              "<table border=\"1\" class=\"dataframe\">\n",
              "  <thead>\n",
              "    <tr style=\"text-align: right;\">\n",
              "      <th></th>\n",
              "      <th>marketplace</th>\n",
              "      <th>customer_id</th>\n",
              "      <th>review_id</th>\n",
              "      <th>product_id</th>\n",
              "      <th>product_parent</th>\n",
              "      <th>product_title</th>\n",
              "      <th>product_category</th>\n",
              "      <th>star_rating</th>\n",
              "      <th>helpful_votes</th>\n",
              "      <th>total_votes</th>\n",
              "      <th>vine</th>\n",
              "      <th>verified_purchase</th>\n",
              "      <th>review_headline</th>\n",
              "      <th>review_body</th>\n",
              "      <th>review_date</th>\n",
              "    </tr>\n",
              "  </thead>\n",
              "  <tbody>\n",
              "    <tr>\n",
              "      <th>0</th>\n",
              "      <td>US</td>\n",
              "      <td>16414143</td>\n",
              "      <td>R3W4P9UBGNGH1U</td>\n",
              "      <td>B00YL0EKWE</td>\n",
              "      <td>852431543</td>\n",
              "      <td>LG G4 Case Hard Transparent Slim Clear Cover f...</td>\n",
              "      <td>Wireless</td>\n",
              "      <td>2</td>\n",
              "      <td>1</td>\n",
              "      <td>3</td>\n",
              "      <td>N</td>\n",
              "      <td>Y</td>\n",
              "      <td>Looks good, functions meh</td>\n",
              "      <td>2 issues  -  Once I turned on the circle apps ...</td>\n",
              "      <td>8/31/2015</td>\n",
              "    </tr>\n",
              "    <tr>\n",
              "      <th>1</th>\n",
              "      <td>US</td>\n",
              "      <td>50800750</td>\n",
              "      <td>R15V54KBMTQWAY</td>\n",
              "      <td>B00XK95RPQ</td>\n",
              "      <td>516894650</td>\n",
              "      <td>Selfie Stick Fiblastiq&amp;trade; Extendable Wirel...</td>\n",
              "      <td>Wireless</td>\n",
              "      <td>4</td>\n",
              "      <td>0</td>\n",
              "      <td>0</td>\n",
              "      <td>N</td>\n",
              "      <td>N</td>\n",
              "      <td>A fun little gadget</td>\n",
              "      <td>I’m embarrassed to admit that until recently, ...</td>\n",
              "      <td>8/31/2015</td>\n",
              "    </tr>\n",
              "    <tr>\n",
              "      <th>2</th>\n",
              "      <td>US</td>\n",
              "      <td>15184378</td>\n",
              "      <td>RY8I449HNXSVF</td>\n",
              "      <td>B00SXRXUKO</td>\n",
              "      <td>984297154</td>\n",
              "      <td>Tribe AB40 Water Resistant Sports Armband with...</td>\n",
              "      <td>Wireless</td>\n",
              "      <td>5</td>\n",
              "      <td>0</td>\n",
              "      <td>0</td>\n",
              "      <td>N</td>\n",
              "      <td>Y</td>\n",
              "      <td>Five Stars</td>\n",
              "      <td>Fits iPhone 6 well</td>\n",
              "      <td>8/31/2015</td>\n",
              "    </tr>\n",
              "    <tr>\n",
              "      <th>3</th>\n",
              "      <td>US</td>\n",
              "      <td>10203548</td>\n",
              "      <td>R18TLJYCKJFLSR</td>\n",
              "      <td>B009V5X1CE</td>\n",
              "      <td>279912704</td>\n",
              "      <td>RAVPower® Element 10400mAh External Battery US...</td>\n",
              "      <td>Wireless</td>\n",
              "      <td>5</td>\n",
              "      <td>0</td>\n",
              "      <td>0</td>\n",
              "      <td>N</td>\n",
              "      <td>Y</td>\n",
              "      <td>Great charger</td>\n",
              "      <td>Great charger.  I easily get 3+ charges on a S...</td>\n",
              "      <td>8/31/2015</td>\n",
              "    </tr>\n",
              "    <tr>\n",
              "      <th>4</th>\n",
              "      <td>US</td>\n",
              "      <td>488280</td>\n",
              "      <td>R1NK26SWS53B8Q</td>\n",
              "      <td>B00D93OVF0</td>\n",
              "      <td>662791300</td>\n",
              "      <td>Fosmon Micro USB Value Pack Bundle for Samsung...</td>\n",
              "      <td>Wireless</td>\n",
              "      <td>5</td>\n",
              "      <td>0</td>\n",
              "      <td>0</td>\n",
              "      <td>N</td>\n",
              "      <td>Y</td>\n",
              "      <td>Five Stars</td>\n",
              "      <td>Great for the price :-)</td>\n",
              "      <td>8/31/2015</td>\n",
              "    </tr>\n",
              "  </tbody>\n",
              "</table>\n",
              "</div>"
            ],
            "text/plain": [
              "  marketplace  ...  review_date\n",
              "0          US  ...    8/31/2015\n",
              "1          US  ...    8/31/2015\n",
              "2          US  ...    8/31/2015\n",
              "3          US  ...    8/31/2015\n",
              "4          US  ...    8/31/2015\n",
              "\n",
              "[5 rows x 15 columns]"
            ]
          },
          "metadata": {
            "tags": []
          },
          "execution_count": 8
        }
      ]
    },
    {
      "cell_type": "code",
      "metadata": {
        "colab": {
          "base_uri": "https://localhost:8080/"
        },
        "id": "sswxdv6R8-qs",
        "outputId": "253e4c2b-e078-41de-9103-f31bb6e84e8c"
      },
      "source": [
        "#dropping unneeded columns\n",
        "toDrop =['marketplace','customer_id','review_id','product_id','product_parent','helpful_votes','total_votes','product_title','product_category','vine','verified_purchase','review_headline',\t'review_date']\n",
        "print(toDrop)"
      ],
      "execution_count": 9,
      "outputs": [
        {
          "output_type": "stream",
          "text": [
            "['marketplace', 'customer_id', 'review_id', 'product_id', 'product_parent', 'helpful_votes', 'total_votes', 'product_title', 'product_category', 'vine', 'verified_purchase', 'review_headline', 'review_date']\n"
          ],
          "name": "stdout"
        }
      ]
    },
    {
      "cell_type": "code",
      "metadata": {
        "id": "4E7j7HeO9AjG"
      },
      "source": [
        "sentimentDf.drop(toDrop,axis=1,errors='ignore', inplace=True)"
      ],
      "execution_count": 10,
      "outputs": []
    },
    {
      "cell_type": "code",
      "metadata": {
        "colab": {
          "base_uri": "https://localhost:8080/",
          "height": 204
        },
        "id": "dj4JwsMy9EKB",
        "outputId": "90725bd3-54cc-4d3e-a540-adc9d2cb3488"
      },
      "source": [
        "sentimentDf.head()"
      ],
      "execution_count": 11,
      "outputs": [
        {
          "output_type": "execute_result",
          "data": {
            "text/html": [
              "<div>\n",
              "<style scoped>\n",
              "    .dataframe tbody tr th:only-of-type {\n",
              "        vertical-align: middle;\n",
              "    }\n",
              "\n",
              "    .dataframe tbody tr th {\n",
              "        vertical-align: top;\n",
              "    }\n",
              "\n",
              "    .dataframe thead th {\n",
              "        text-align: right;\n",
              "    }\n",
              "</style>\n",
              "<table border=\"1\" class=\"dataframe\">\n",
              "  <thead>\n",
              "    <tr style=\"text-align: right;\">\n",
              "      <th></th>\n",
              "      <th>star_rating</th>\n",
              "      <th>review_body</th>\n",
              "    </tr>\n",
              "  </thead>\n",
              "  <tbody>\n",
              "    <tr>\n",
              "      <th>0</th>\n",
              "      <td>2</td>\n",
              "      <td>2 issues  -  Once I turned on the circle apps ...</td>\n",
              "    </tr>\n",
              "    <tr>\n",
              "      <th>1</th>\n",
              "      <td>4</td>\n",
              "      <td>I’m embarrassed to admit that until recently, ...</td>\n",
              "    </tr>\n",
              "    <tr>\n",
              "      <th>2</th>\n",
              "      <td>5</td>\n",
              "      <td>Fits iPhone 6 well</td>\n",
              "    </tr>\n",
              "    <tr>\n",
              "      <th>3</th>\n",
              "      <td>5</td>\n",
              "      <td>Great charger.  I easily get 3+ charges on a S...</td>\n",
              "    </tr>\n",
              "    <tr>\n",
              "      <th>4</th>\n",
              "      <td>5</td>\n",
              "      <td>Great for the price :-)</td>\n",
              "    </tr>\n",
              "  </tbody>\n",
              "</table>\n",
              "</div>"
            ],
            "text/plain": [
              "   star_rating                                        review_body\n",
              "0            2  2 issues  -  Once I turned on the circle apps ...\n",
              "1            4  I’m embarrassed to admit that until recently, ...\n",
              "2            5                                 Fits iPhone 6 well\n",
              "3            5  Great charger.  I easily get 3+ charges on a S...\n",
              "4            5                            Great for the price :-)"
            ]
          },
          "metadata": {
            "tags": []
          },
          "execution_count": 11
        }
      ]
    },
    {
      "cell_type": "code",
      "metadata": {
        "colab": {
          "base_uri": "https://localhost:8080/"
        },
        "id": "r-Jzt4qK9HV9",
        "outputId": "8ca7626e-4368-436c-b29c-2b62ac3829bc"
      },
      "source": [
        "# saving this for later testing\n",
        "sentimentDf.to_csv('./Endproduct_sampling.csv', index=False)\n",
        "\n",
        "sentimentDf.info()"
      ],
      "execution_count": 12,
      "outputs": [
        {
          "output_type": "stream",
          "text": [
            "<class 'pandas.core.frame.DataFrame'>\n",
            "RangeIndex: 19999 entries, 0 to 19998\n",
            "Data columns (total 2 columns):\n",
            " #   Column       Non-Null Count  Dtype \n",
            "---  ------       --------------  ----- \n",
            " 0   star_rating  19999 non-null  int64 \n",
            " 1   review_body  19995 non-null  object\n",
            "dtypes: int64(1), object(1)\n",
            "memory usage: 312.6+ KB\n"
          ],
          "name": "stdout"
        }
      ]
    },
    {
      "cell_type": "markdown",
      "metadata": {
        "id": "A_6FWJYF9KcZ"
      },
      "source": [
        "## Section 2 \n",
        "this is to show that I would only need the star rating given by the commenter to check if it is a positive or negative view \n",
        "\n",
        "a positive view will be rated 1 (4-5 stars) 0 for neutral (3 stars) and -1 for (1-2) stars\n",
        "\n",
        "hence if star_rating => 4 to 5 then 1\n",
        "         star_rating = 3 then 0 \n",
        "         star_rating = 0 to 2 then -1 \n",
        "\n",
        "# review_body will be retained as is "
      ]
    },
    {
      "cell_type": "code",
      "metadata": {
        "colab": {
          "base_uri": "https://localhost:8080/",
          "height": 204
        },
        "id": "hqEu_yWH9JA6",
        "outputId": "803abee2-3829-4e9f-e9c5-254f6ec75e8f"
      },
      "source": [
        "# Convert 'star_rating' to -1,0 1 \n",
        "# .map() will map values in the original to values in the specified data\n",
        "star_ratingFlag = {\n",
        "    1 : 0,\n",
        "    2 : 0,\n",
        "    3 : 3,\n",
        "    4 : 1,\n",
        "    5 : 1\n",
        "}\n",
        "\n",
        "sentimentDf['star_rating'] = sentimentDf['star_rating'].map(star_ratingFlag)\n",
        "sentimentDf.head()"
      ],
      "execution_count": 13,
      "outputs": [
        {
          "output_type": "execute_result",
          "data": {
            "text/html": [
              "<div>\n",
              "<style scoped>\n",
              "    .dataframe tbody tr th:only-of-type {\n",
              "        vertical-align: middle;\n",
              "    }\n",
              "\n",
              "    .dataframe tbody tr th {\n",
              "        vertical-align: top;\n",
              "    }\n",
              "\n",
              "    .dataframe thead th {\n",
              "        text-align: right;\n",
              "    }\n",
              "</style>\n",
              "<table border=\"1\" class=\"dataframe\">\n",
              "  <thead>\n",
              "    <tr style=\"text-align: right;\">\n",
              "      <th></th>\n",
              "      <th>star_rating</th>\n",
              "      <th>review_body</th>\n",
              "    </tr>\n",
              "  </thead>\n",
              "  <tbody>\n",
              "    <tr>\n",
              "      <th>0</th>\n",
              "      <td>0</td>\n",
              "      <td>2 issues  -  Once I turned on the circle apps ...</td>\n",
              "    </tr>\n",
              "    <tr>\n",
              "      <th>1</th>\n",
              "      <td>1</td>\n",
              "      <td>I’m embarrassed to admit that until recently, ...</td>\n",
              "    </tr>\n",
              "    <tr>\n",
              "      <th>2</th>\n",
              "      <td>1</td>\n",
              "      <td>Fits iPhone 6 well</td>\n",
              "    </tr>\n",
              "    <tr>\n",
              "      <th>3</th>\n",
              "      <td>1</td>\n",
              "      <td>Great charger.  I easily get 3+ charges on a S...</td>\n",
              "    </tr>\n",
              "    <tr>\n",
              "      <th>4</th>\n",
              "      <td>1</td>\n",
              "      <td>Great for the price :-)</td>\n",
              "    </tr>\n",
              "  </tbody>\n",
              "</table>\n",
              "</div>"
            ],
            "text/plain": [
              "   star_rating                                        review_body\n",
              "0            0  2 issues  -  Once I turned on the circle apps ...\n",
              "1            1  I’m embarrassed to admit that until recently, ...\n",
              "2            1                                 Fits iPhone 6 well\n",
              "3            1  Great charger.  I easily get 3+ charges on a S...\n",
              "4            1                            Great for the price :-)"
            ]
          },
          "metadata": {
            "tags": []
          },
          "execution_count": 13
        }
      ]
    },
    {
      "cell_type": "markdown",
      "metadata": {
        "id": "u6A6MPhr8s7q"
      },
      "source": [
        "## Section 3 saving it to amazon_reviews-cleaned"
      ]
    },
    {
      "cell_type": "code",
      "metadata": {
        "colab": {
          "base_uri": "https://localhost:8080/",
          "height": 173
        },
        "id": "CfIvon8F-fyy",
        "outputId": "ef9c5121-e48c-4b9b-861b-eaa402231f4e"
      },
      "source": [
        "#check where review_body = null \n",
        "sentimentDf[ sentimentDf[\"review_body\"].isnull()== True]"
      ],
      "execution_count": 14,
      "outputs": [
        {
          "output_type": "execute_result",
          "data": {
            "text/html": [
              "<div>\n",
              "<style scoped>\n",
              "    .dataframe tbody tr th:only-of-type {\n",
              "        vertical-align: middle;\n",
              "    }\n",
              "\n",
              "    .dataframe tbody tr th {\n",
              "        vertical-align: top;\n",
              "    }\n",
              "\n",
              "    .dataframe thead th {\n",
              "        text-align: right;\n",
              "    }\n",
              "</style>\n",
              "<table border=\"1\" class=\"dataframe\">\n",
              "  <thead>\n",
              "    <tr style=\"text-align: right;\">\n",
              "      <th></th>\n",
              "      <th>star_rating</th>\n",
              "      <th>review_body</th>\n",
              "    </tr>\n",
              "  </thead>\n",
              "  <tbody>\n",
              "    <tr>\n",
              "      <th>7675</th>\n",
              "      <td>1</td>\n",
              "      <td>NaN</td>\n",
              "    </tr>\n",
              "    <tr>\n",
              "      <th>13411</th>\n",
              "      <td>0</td>\n",
              "      <td>NaN</td>\n",
              "    </tr>\n",
              "    <tr>\n",
              "      <th>13491</th>\n",
              "      <td>1</td>\n",
              "      <td>NaN</td>\n",
              "    </tr>\n",
              "    <tr>\n",
              "      <th>17286</th>\n",
              "      <td>1</td>\n",
              "      <td>NaN</td>\n",
              "    </tr>\n",
              "  </tbody>\n",
              "</table>\n",
              "</div>"
            ],
            "text/plain": [
              "       star_rating review_body\n",
              "7675             1         NaN\n",
              "13411            0         NaN\n",
              "13491            1         NaN\n",
              "17286            1         NaN"
            ]
          },
          "metadata": {
            "tags": []
          },
          "execution_count": 14
        }
      ]
    },
    {
      "cell_type": "code",
      "metadata": {
        "id": "Vb7B1PQB-iV0"
      },
      "source": [
        "#deleting null from the dataset\n",
        "sentimentDf = sentimentDf[sentimentDf['review_body'].notna()]"
      ],
      "execution_count": 15,
      "outputs": []
    },
    {
      "cell_type": "code",
      "metadata": {
        "id": "hfGs3oawEU8P",
        "outputId": "e9a0448b-2a94-4d28-bf9e-643b1bceddcf",
        "colab": {
          "base_uri": "https://localhost:8080/",
          "height": 49
        }
      },
      "source": [
        "#check where review_body = null \n",
        "sentimentDf[ sentimentDf[\"review_body\"].isnull()== True]"
      ],
      "execution_count": 16,
      "outputs": [
        {
          "output_type": "execute_result",
          "data": {
            "text/html": [
              "<div>\n",
              "<style scoped>\n",
              "    .dataframe tbody tr th:only-of-type {\n",
              "        vertical-align: middle;\n",
              "    }\n",
              "\n",
              "    .dataframe tbody tr th {\n",
              "        vertical-align: top;\n",
              "    }\n",
              "\n",
              "    .dataframe thead th {\n",
              "        text-align: right;\n",
              "    }\n",
              "</style>\n",
              "<table border=\"1\" class=\"dataframe\">\n",
              "  <thead>\n",
              "    <tr style=\"text-align: right;\">\n",
              "      <th></th>\n",
              "      <th>star_rating</th>\n",
              "      <th>review_body</th>\n",
              "    </tr>\n",
              "  </thead>\n",
              "  <tbody>\n",
              "  </tbody>\n",
              "</table>\n",
              "</div>"
            ],
            "text/plain": [
              "Empty DataFrame\n",
              "Columns: [star_rating, review_body]\n",
              "Index: []"
            ]
          },
          "metadata": {
            "tags": []
          },
          "execution_count": 16
        }
      ]
    },
    {
      "cell_type": "code",
      "metadata": {
        "id": "KsLleIjp9ZAH"
      },
      "source": [
        "# Export new file from updated data frame\n",
        "sentimentDf.to_csv('./amazon_review-cleaned.csv', index=False)"
      ],
      "execution_count": 17,
      "outputs": []
    },
    {
      "cell_type": "markdown",
      "metadata": {
        "id": "6dvEa33VU1Z5"
      },
      "source": [
        "# Features\n",
        "#Capstone Project - Sentiment Analysis\n",
        "##Milestone No. 2\n",
        " Data Engineering II: Exploratory data analysis and feature engineering\n",
        "\n",
        " I would identify that the labe shall be the star_rating and the feature would be the review_body \n",
        "\n",
        " As previously done in Milestone No. 1, Section 2, I reduced the reviews from Postive and Negative with the star_rating  \n",
        "\n",
        "\n",
        " star_rating => 4 to 5 then 1 star_rating = 3 then 0 star_rating = 0 to 2 then -1\n",
        "\n",
        " I would then delete neutral rate \"0\" as this would contribute as false positive or false negative view and double check for null response and clean them as well.\n",
        "\n",
        "then create test data  and train data (60/40)"
      ]
    },
    {
      "cell_type": "code",
      "metadata": {
        "id": "G-REmdGV-JGa"
      },
      "source": [
        "#importing cleaned data\n",
        "sentimentDf = sentimentDf = pd.read_csv('./amazon_review-cleaned.csv')"
      ],
      "execution_count": 18,
      "outputs": []
    },
    {
      "cell_type": "markdown",
      "metadata": {
        "id": "Lpb5NtE8-lPy"
      },
      "source": [
        "#Section 1 \n",
        "Checking zero false positive and false negative score\n",
        "checking null response."
      ]
    },
    {
      "cell_type": "code",
      "metadata": {
        "colab": {
          "base_uri": "https://localhost:8080/",
          "height": 1000
        },
        "id": "TuoBG6-r-OV1",
        "outputId": "ad63df37-1674-41e6-b0ae-7f0538736f95"
      },
      "source": [
        "#check the dataset\n",
        "sentimentDf.head(50)\n",
        "#it can bee sen that there are false positive and false negative comments for 3"
      ],
      "execution_count": 19,
      "outputs": [
        {
          "output_type": "execute_result",
          "data": {
            "text/html": [
              "<div>\n",
              "<style scoped>\n",
              "    .dataframe tbody tr th:only-of-type {\n",
              "        vertical-align: middle;\n",
              "    }\n",
              "\n",
              "    .dataframe tbody tr th {\n",
              "        vertical-align: top;\n",
              "    }\n",
              "\n",
              "    .dataframe thead th {\n",
              "        text-align: right;\n",
              "    }\n",
              "</style>\n",
              "<table border=\"1\" class=\"dataframe\">\n",
              "  <thead>\n",
              "    <tr style=\"text-align: right;\">\n",
              "      <th></th>\n",
              "      <th>star_rating</th>\n",
              "      <th>review_body</th>\n",
              "    </tr>\n",
              "  </thead>\n",
              "  <tbody>\n",
              "    <tr>\n",
              "      <th>0</th>\n",
              "      <td>0</td>\n",
              "      <td>2 issues  -  Once I turned on the circle apps ...</td>\n",
              "    </tr>\n",
              "    <tr>\n",
              "      <th>1</th>\n",
              "      <td>1</td>\n",
              "      <td>I’m embarrassed to admit that until recently, ...</td>\n",
              "    </tr>\n",
              "    <tr>\n",
              "      <th>2</th>\n",
              "      <td>1</td>\n",
              "      <td>Fits iPhone 6 well</td>\n",
              "    </tr>\n",
              "    <tr>\n",
              "      <th>3</th>\n",
              "      <td>1</td>\n",
              "      <td>Great charger.  I easily get 3+ charges on a S...</td>\n",
              "    </tr>\n",
              "    <tr>\n",
              "      <th>4</th>\n",
              "      <td>1</td>\n",
              "      <td>Great for the price :-)</td>\n",
              "    </tr>\n",
              "    <tr>\n",
              "      <th>5</th>\n",
              "      <td>1</td>\n",
              "      <td>Great Case, better customer service!</td>\n",
              "    </tr>\n",
              "    <tr>\n",
              "      <th>6</th>\n",
              "      <td>1</td>\n",
              "      <td>Easy to set up and use. Great functions for th...</td>\n",
              "    </tr>\n",
              "    <tr>\n",
              "      <th>7</th>\n",
              "      <td>1</td>\n",
              "      <td>Works great</td>\n",
              "    </tr>\n",
              "    <tr>\n",
              "      <th>8</th>\n",
              "      <td>1</td>\n",
              "      <td>So far so good. It is essentially identical to...</td>\n",
              "    </tr>\n",
              "    <tr>\n",
              "      <th>9</th>\n",
              "      <td>3</td>\n",
              "      <td>seems durable but these are always harder to g...</td>\n",
              "    </tr>\n",
              "    <tr>\n",
              "      <th>10</th>\n",
              "      <td>1</td>\n",
              "      <td>Super thin, lightweight, and non intrusive. Fe...</td>\n",
              "    </tr>\n",
              "    <tr>\n",
              "      <th>11</th>\n",
              "      <td>1</td>\n",
              "      <td>As good as the Samsung Galaxies, in my opinion.</td>\n",
              "    </tr>\n",
              "    <tr>\n",
              "      <th>12</th>\n",
              "      <td>1</td>\n",
              "      <td>I received this on time and its great. I went ...</td>\n",
              "    </tr>\n",
              "    <tr>\n",
              "      <th>13</th>\n",
              "      <td>0</td>\n",
              "      <td>Very cheap case. This not protect anything. Ve...</td>\n",
              "    </tr>\n",
              "    <tr>\n",
              "      <th>14</th>\n",
              "      <td>1</td>\n",
              "      <td>son loves it.</td>\n",
              "    </tr>\n",
              "    <tr>\n",
              "      <th>15</th>\n",
              "      <td>0</td>\n",
              "      <td>you have to turn power off to this unit once o...</td>\n",
              "    </tr>\n",
              "    <tr>\n",
              "      <th>16</th>\n",
              "      <td>1</td>\n",
              "      <td>Awesome, thank you</td>\n",
              "    </tr>\n",
              "    <tr>\n",
              "      <th>17</th>\n",
              "      <td>1</td>\n",
              "      <td>nice, smart</td>\n",
              "    </tr>\n",
              "    <tr>\n",
              "      <th>18</th>\n",
              "      <td>1</td>\n",
              "      <td>We love these headphones. We had a pair each f...</td>\n",
              "    </tr>\n",
              "    <tr>\n",
              "      <th>19</th>\n",
              "      <td>1</td>\n",
              "      <td>This is well worth the money.</td>\n",
              "    </tr>\n",
              "    <tr>\n",
              "      <th>20</th>\n",
              "      <td>0</td>\n",
              "      <td>This cord didn't work at all</td>\n",
              "    </tr>\n",
              "    <tr>\n",
              "      <th>21</th>\n",
              "      <td>1</td>\n",
              "      <td>Initial review after having this Kinivo for 48...</td>\n",
              "    </tr>\n",
              "    <tr>\n",
              "      <th>22</th>\n",
              "      <td>1</td>\n",
              "      <td>Great cords!! 10ft cords for this price? And t...</td>\n",
              "    </tr>\n",
              "    <tr>\n",
              "      <th>23</th>\n",
              "      <td>0</td>\n",
              "      <td>The car plug in broke within a week of using it.</td>\n",
              "    </tr>\n",
              "    <tr>\n",
              "      <th>24</th>\n",
              "      <td>1</td>\n",
              "      <td>Excellent addition to my alcatel one touch pop...</td>\n",
              "    </tr>\n",
              "    <tr>\n",
              "      <th>25</th>\n",
              "      <td>1</td>\n",
              "      <td>Not bad. I LOVE these style of Bluetooth heads...</td>\n",
              "    </tr>\n",
              "    <tr>\n",
              "      <th>26</th>\n",
              "      <td>1</td>\n",
              "      <td>Daughter couldn't go down the river without he...</td>\n",
              "    </tr>\n",
              "    <tr>\n",
              "      <th>27</th>\n",
              "      <td>1</td>\n",
              "      <td>Foam not good, clips ok so far...</td>\n",
              "    </tr>\n",
              "    <tr>\n",
              "      <th>28</th>\n",
              "      <td>0</td>\n",
              "      <td>right after I posted favorable review I notice...</td>\n",
              "    </tr>\n",
              "    <tr>\n",
              "      <th>29</th>\n",
              "      <td>1</td>\n",
              "      <td>very good</td>\n",
              "    </tr>\n",
              "    <tr>\n",
              "      <th>30</th>\n",
              "      <td>1</td>\n",
              "      <td>ok</td>\n",
              "    </tr>\n",
              "    <tr>\n",
              "      <th>31</th>\n",
              "      <td>1</td>\n",
              "      <td>This product is nicer that I was expecting.  A...</td>\n",
              "    </tr>\n",
              "    <tr>\n",
              "      <th>32</th>\n",
              "      <td>1</td>\n",
              "      <td>the only reason i didn't give this 5 stars was...</td>\n",
              "    </tr>\n",
              "    <tr>\n",
              "      <th>33</th>\n",
              "      <td>1</td>\n",
              "      <td>I purchased this as a gift for my brother who ...</td>\n",
              "    </tr>\n",
              "    <tr>\n",
              "      <th>34</th>\n",
              "      <td>1</td>\n",
              "      <td>excelente</td>\n",
              "    </tr>\n",
              "    <tr>\n",
              "      <th>35</th>\n",
              "      <td>1</td>\n",
              "      <td>The case fits perfectly on my Son's phone. Tha...</td>\n",
              "    </tr>\n",
              "    <tr>\n",
              "      <th>36</th>\n",
              "      <td>0</td>\n",
              "      <td>It's okay. I like the dreamcatcher graphic a l...</td>\n",
              "    </tr>\n",
              "    <tr>\n",
              "      <th>37</th>\n",
              "      <td>1</td>\n",
              "      <td>Great price and fast shipping highly recommended.</td>\n",
              "    </tr>\n",
              "    <tr>\n",
              "      <th>38</th>\n",
              "      <td>1</td>\n",
              "      <td>I'm not going to tell you that you should buy ...</td>\n",
              "    </tr>\n",
              "    <tr>\n",
              "      <th>39</th>\n",
              "      <td>1</td>\n",
              "      <td>love it</td>\n",
              "    </tr>\n",
              "    <tr>\n",
              "      <th>40</th>\n",
              "      <td>0</td>\n",
              "      <td>Bought a puretalk prepaid sim card for this ph...</td>\n",
              "    </tr>\n",
              "    <tr>\n",
              "      <th>41</th>\n",
              "      <td>1</td>\n",
              "      <td>&amp;#34;This a great looking and highly functiona...</td>\n",
              "    </tr>\n",
              "    <tr>\n",
              "      <th>42</th>\n",
              "      <td>1</td>\n",
              "      <td>This is my 8th time buying one of these. Not b...</td>\n",
              "    </tr>\n",
              "    <tr>\n",
              "      <th>43</th>\n",
              "      <td>1</td>\n",
              "      <td>Its annoyingly good at reminding me to get up ...</td>\n",
              "    </tr>\n",
              "    <tr>\n",
              "      <th>44</th>\n",
              "      <td>3</td>\n",
              "      <td>Best quality</td>\n",
              "    </tr>\n",
              "    <tr>\n",
              "      <th>45</th>\n",
              "      <td>1</td>\n",
              "      <td>I liked the macro lens the most. So sharp! I g...</td>\n",
              "    </tr>\n",
              "    <tr>\n",
              "      <th>46</th>\n",
              "      <td>1</td>\n",
              "      <td>As past reviewers had indicated, it is a bit b...</td>\n",
              "    </tr>\n",
              "    <tr>\n",
              "      <th>47</th>\n",
              "      <td>1</td>\n",
              "      <td>fits perfect. doesn't interfere with pockets a...</td>\n",
              "    </tr>\n",
              "    <tr>\n",
              "      <th>48</th>\n",
              "      <td>1</td>\n",
              "      <td>Good protection.</td>\n",
              "    </tr>\n",
              "    <tr>\n",
              "      <th>49</th>\n",
              "      <td>1</td>\n",
              "      <td>Fantastic case. Looks slick as can be. The har...</td>\n",
              "    </tr>\n",
              "  </tbody>\n",
              "</table>\n",
              "</div>"
            ],
            "text/plain": [
              "    star_rating                                        review_body\n",
              "0             0  2 issues  -  Once I turned on the circle apps ...\n",
              "1             1  I’m embarrassed to admit that until recently, ...\n",
              "2             1                                 Fits iPhone 6 well\n",
              "3             1  Great charger.  I easily get 3+ charges on a S...\n",
              "4             1                            Great for the price :-)\n",
              "5             1               Great Case, better customer service!\n",
              "6             1  Easy to set up and use. Great functions for th...\n",
              "7             1                                        Works great\n",
              "8             1  So far so good. It is essentially identical to...\n",
              "9             3  seems durable but these are always harder to g...\n",
              "10            1  Super thin, lightweight, and non intrusive. Fe...\n",
              "11            1    As good as the Samsung Galaxies, in my opinion.\n",
              "12            1  I received this on time and its great. I went ...\n",
              "13            0  Very cheap case. This not protect anything. Ve...\n",
              "14            1                                      son loves it.\n",
              "15            0  you have to turn power off to this unit once o...\n",
              "16            1                                 Awesome, thank you\n",
              "17            1                                        nice, smart\n",
              "18            1  We love these headphones. We had a pair each f...\n",
              "19            1                      This is well worth the money.\n",
              "20            0                       This cord didn't work at all\n",
              "21            1  Initial review after having this Kinivo for 48...\n",
              "22            1  Great cords!! 10ft cords for this price? And t...\n",
              "23            0   The car plug in broke within a week of using it.\n",
              "24            1  Excellent addition to my alcatel one touch pop...\n",
              "25            1  Not bad. I LOVE these style of Bluetooth heads...\n",
              "26            1  Daughter couldn't go down the river without he...\n",
              "27            1                  Foam not good, clips ok so far...\n",
              "28            0  right after I posted favorable review I notice...\n",
              "29            1                                          very good\n",
              "30            1                                                 ok\n",
              "31            1  This product is nicer that I was expecting.  A...\n",
              "32            1  the only reason i didn't give this 5 stars was...\n",
              "33            1  I purchased this as a gift for my brother who ...\n",
              "34            1                                          excelente\n",
              "35            1  The case fits perfectly on my Son's phone. Tha...\n",
              "36            0  It's okay. I like the dreamcatcher graphic a l...\n",
              "37            1  Great price and fast shipping highly recommended.\n",
              "38            1  I'm not going to tell you that you should buy ...\n",
              "39            1                                            love it\n",
              "40            0  Bought a puretalk prepaid sim card for this ph...\n",
              "41            1  &#34;This a great looking and highly functiona...\n",
              "42            1  This is my 8th time buying one of these. Not b...\n",
              "43            1  Its annoyingly good at reminding me to get up ...\n",
              "44            3                                       Best quality\n",
              "45            1  I liked the macro lens the most. So sharp! I g...\n",
              "46            1  As past reviewers had indicated, it is a bit b...\n",
              "47            1  fits perfect. doesn't interfere with pockets a...\n",
              "48            1                                   Good protection.\n",
              "49            1  Fantastic case. Looks slick as can be. The har..."
            ]
          },
          "metadata": {
            "tags": []
          },
          "execution_count": 19
        }
      ]
    },
    {
      "cell_type": "code",
      "metadata": {
        "colab": {
          "base_uri": "https://localhost:8080/"
        },
        "id": "cUTgaNSv-UNi",
        "outputId": "94a43642-3094-4118-ac63-e7a6654e18c2"
      },
      "source": [
        "sentimentDf.info()"
      ],
      "execution_count": 20,
      "outputs": [
        {
          "output_type": "stream",
          "text": [
            "<class 'pandas.core.frame.DataFrame'>\n",
            "RangeIndex: 19995 entries, 0 to 19994\n",
            "Data columns (total 2 columns):\n",
            " #   Column       Non-Null Count  Dtype \n",
            "---  ------       --------------  ----- \n",
            " 0   star_rating  19995 non-null  int64 \n",
            " 1   review_body  19995 non-null  object\n",
            "dtypes: int64(1), object(1)\n",
            "memory usage: 312.5+ KB\n"
          ],
          "name": "stdout"
        }
      ]
    },
    {
      "cell_type": "code",
      "metadata": {
        "id": "TUuWbNGj-aqL"
      },
      "source": [
        "#deleting star_rating = 0.50\n",
        "sentimentDf =  (sentimentDf[sentimentDf[\"star_rating\"]!=3])"
      ],
      "execution_count": 21,
      "outputs": []
    },
    {
      "cell_type": "code",
      "metadata": {
        "colab": {
          "base_uri": "https://localhost:8080/"
        },
        "id": "mLYIfM77-sPZ",
        "outputId": "4759c2b5-be20-4fb1-9ab4-a970054eb4b1"
      },
      "source": [
        "#checking again if there are null values in data set\n",
        "\n",
        "sentimentDf.info()"
      ],
      "execution_count": 22,
      "outputs": [
        {
          "output_type": "stream",
          "text": [
            "<class 'pandas.core.frame.DataFrame'>\n",
            "Int64Index: 18382 entries, 0 to 19994\n",
            "Data columns (total 2 columns):\n",
            " #   Column       Non-Null Count  Dtype \n",
            "---  ------       --------------  ----- \n",
            " 0   star_rating  18382 non-null  int64 \n",
            " 1   review_body  18382 non-null  object\n",
            "dtypes: int64(1), object(1)\n",
            "memory usage: 430.8+ KB\n"
          ],
          "name": "stdout"
        }
      ]
    },
    {
      "cell_type": "markdown",
      "metadata": {
        "id": "AVsGsp-v-yp8"
      },
      "source": [
        "# Section 2 - Creating Test and train Data"
      ]
    },
    {
      "cell_type": "code",
      "metadata": {
        "colab": {
          "base_uri": "https://localhost:8080/",
          "height": 419
        },
        "id": "nU7nlD8B-3dD",
        "outputId": "2a7d02cd-6bd5-40b0-ac15-4be42c36ca5d"
      },
      "source": [
        "sentimentDf"
      ],
      "execution_count": 23,
      "outputs": [
        {
          "output_type": "execute_result",
          "data": {
            "text/html": [
              "<div>\n",
              "<style scoped>\n",
              "    .dataframe tbody tr th:only-of-type {\n",
              "        vertical-align: middle;\n",
              "    }\n",
              "\n",
              "    .dataframe tbody tr th {\n",
              "        vertical-align: top;\n",
              "    }\n",
              "\n",
              "    .dataframe thead th {\n",
              "        text-align: right;\n",
              "    }\n",
              "</style>\n",
              "<table border=\"1\" class=\"dataframe\">\n",
              "  <thead>\n",
              "    <tr style=\"text-align: right;\">\n",
              "      <th></th>\n",
              "      <th>star_rating</th>\n",
              "      <th>review_body</th>\n",
              "    </tr>\n",
              "  </thead>\n",
              "  <tbody>\n",
              "    <tr>\n",
              "      <th>0</th>\n",
              "      <td>0</td>\n",
              "      <td>2 issues  -  Once I turned on the circle apps ...</td>\n",
              "    </tr>\n",
              "    <tr>\n",
              "      <th>1</th>\n",
              "      <td>1</td>\n",
              "      <td>I’m embarrassed to admit that until recently, ...</td>\n",
              "    </tr>\n",
              "    <tr>\n",
              "      <th>2</th>\n",
              "      <td>1</td>\n",
              "      <td>Fits iPhone 6 well</td>\n",
              "    </tr>\n",
              "    <tr>\n",
              "      <th>3</th>\n",
              "      <td>1</td>\n",
              "      <td>Great charger.  I easily get 3+ charges on a S...</td>\n",
              "    </tr>\n",
              "    <tr>\n",
              "      <th>4</th>\n",
              "      <td>1</td>\n",
              "      <td>Great for the price :-)</td>\n",
              "    </tr>\n",
              "    <tr>\n",
              "      <th>...</th>\n",
              "      <td>...</td>\n",
              "      <td>...</td>\n",
              "    </tr>\n",
              "    <tr>\n",
              "      <th>19990</th>\n",
              "      <td>1</td>\n",
              "      <td>I love the way that I can easily dial up a num...</td>\n",
              "    </tr>\n",
              "    <tr>\n",
              "      <th>19991</th>\n",
              "      <td>1</td>\n",
              "      <td>purchased for my husband, a general contractor...</td>\n",
              "    </tr>\n",
              "    <tr>\n",
              "      <th>19992</th>\n",
              "      <td>1</td>\n",
              "      <td>Not sure if I wanted a wallet type case, but a...</td>\n",
              "    </tr>\n",
              "    <tr>\n",
              "      <th>19993</th>\n",
              "      <td>1</td>\n",
              "      <td>Great case for the price... I used it for abou...</td>\n",
              "    </tr>\n",
              "    <tr>\n",
              "      <th>19994</th>\n",
              "      <td>1</td>\n",
              "      <td>works great!</td>\n",
              "    </tr>\n",
              "  </tbody>\n",
              "</table>\n",
              "<p>18382 rows × 2 columns</p>\n",
              "</div>"
            ],
            "text/plain": [
              "       star_rating                                        review_body\n",
              "0                0  2 issues  -  Once I turned on the circle apps ...\n",
              "1                1  I’m embarrassed to admit that until recently, ...\n",
              "2                1                                 Fits iPhone 6 well\n",
              "3                1  Great charger.  I easily get 3+ charges on a S...\n",
              "4                1                            Great for the price :-)\n",
              "...            ...                                                ...\n",
              "19990            1  I love the way that I can easily dial up a num...\n",
              "19991            1  purchased for my husband, a general contractor...\n",
              "19992            1  Not sure if I wanted a wallet type case, but a...\n",
              "19993            1  Great case for the price... I used it for abou...\n",
              "19994            1                                       works great!\n",
              "\n",
              "[18382 rows x 2 columns]"
            ]
          },
          "metadata": {
            "tags": []
          },
          "execution_count": 23
        }
      ]
    },
    {
      "cell_type": "code",
      "metadata": {
        "id": "vNWW94QM-8lj"
      },
      "source": [
        "##Create two dataframes, sentimentFeature and sentimentLabel\n",
        "sentimentLabel = sentimentDf['star_rating']\n",
        "sentimentFeature = sentimentDf['review_body']\n",
        "\n",
        "#split into 60/40 train and test.\n",
        "\n",
        "sTrainF, sTestF, sTrainL, sTestL = train_test_split(sentimentFeature,sentimentLabel, test_size=0.4, random_state = 12034)"
      ],
      "execution_count": 24,
      "outputs": []
    },
    {
      "cell_type": "code",
      "metadata": {
        "colab": {
          "base_uri": "https://localhost:8080/"
        },
        "id": "fREddySP-_wC",
        "outputId": "3b29462d-bcd7-4c0d-95c1-b8e71b19d726"
      },
      "source": [
        "for dataset in [sTestF,sTrainF]:\n",
        "  ratio = round(len(dataset)/len(sentimentFeature),2)\n",
        "  print(ratio)"
      ],
      "execution_count": 25,
      "outputs": [
        {
          "output_type": "stream",
          "text": [
            "0.4\n",
            "0.6\n"
          ],
          "name": "stdout"
        }
      ]
    },
    {
      "cell_type": "code",
      "metadata": {
        "id": "8e1uX0Ej_B24"
      },
      "source": [
        "#exporting to CSV\n",
        "\n",
        "#train (60%)\n",
        "sTrainF.to_csv('./Sentiment_Feature_train.csv', index=False)\n",
        "sTestF.to_csv('./Sentiment_Feature_test.csv', index=False)\n",
        "\n",
        "#test (40%)\n",
        "sTrainL.to_csv('./Sentiment_Label_train.csv', index=False)\n",
        "sTestL.to_csv('./Sentiment_Label_test.csv', index=False)"
      ],
      "execution_count": 26,
      "outputs": []
    },
    {
      "cell_type": "markdown",
      "metadata": {
        "id": "z0ZQ1Uo_U7rw"
      },
      "source": [
        "# Machine Learning\n",
        "\n",
        "Capstone Project - Sentiment Analysis\n",
        "Milestone No. 3\n",
        "Machine Learning I: Model selection and hyperparameter tuning\n",
        "\n",
        "I have thoroughly prepared the data for model selection"
      ]
    },
    {
      "cell_type": "code",
      "metadata": {
        "id": "8quh9pz-_P5t"
      },
      "source": [
        "# Import libraries\n",
        "\n"
      ],
      "execution_count": 27,
      "outputs": []
    },
    {
      "cell_type": "markdown",
      "metadata": {
        "id": "fg40Ofbh_SlC"
      },
      "source": [
        "#Section 1 \n",
        "import test and train datasets"
      ]
    },
    {
      "cell_type": "code",
      "metadata": {
        "id": "u7alWxky_XSa"
      },
      "source": [
        "#importing data\n",
        "trainF = pd.read_csv('./Sentiment_Feature_train.csv')\n",
        "train_Df = trainF\n",
        "trainL = pd.read_csv('./Sentiment_Label_train.csv')\n",
        "testF = pd.read_csv('./Sentiment_Feature_test.csv')\n",
        "test_Df = testF \n",
        "testL = pd.read_csv('./Sentiment_Label_test.csv')"
      ],
      "execution_count": 28,
      "outputs": []
    },
    {
      "cell_type": "code",
      "metadata": {
        "id": "He2nqZfV_aPc"
      },
      "source": [
        "train_Df['star_rating'] = trainL['star_rating']\n",
        "test_Df['star_rating'] = testL['star_rating']"
      ],
      "execution_count": 29,
      "outputs": []
    },
    {
      "cell_type": "code",
      "metadata": {
        "colab": {
          "base_uri": "https://localhost:8080/"
        },
        "id": "PMQqTlwQ_b6d",
        "outputId": "3b7b0106-5964-4681-fd98-a249934b0600"
      },
      "source": [
        "train_Df.info()"
      ],
      "execution_count": 30,
      "outputs": [
        {
          "output_type": "stream",
          "text": [
            "<class 'pandas.core.frame.DataFrame'>\n",
            "RangeIndex: 11029 entries, 0 to 11028\n",
            "Data columns (total 2 columns):\n",
            " #   Column       Non-Null Count  Dtype \n",
            "---  ------       --------------  ----- \n",
            " 0   review_body  11029 non-null  object\n",
            " 1   star_rating  11029 non-null  int64 \n",
            "dtypes: int64(1), object(1)\n",
            "memory usage: 172.5+ KB\n"
          ],
          "name": "stdout"
        }
      ]
    },
    {
      "cell_type": "code",
      "metadata": {
        "colab": {
          "base_uri": "https://localhost:8080/"
        },
        "id": "OtQpmMPo_doX",
        "outputId": "cc4d3d92-48ca-49af-a3a4-54d825159ee9"
      },
      "source": [
        "test_Df.info()"
      ],
      "execution_count": 31,
      "outputs": [
        {
          "output_type": "stream",
          "text": [
            "<class 'pandas.core.frame.DataFrame'>\n",
            "RangeIndex: 7353 entries, 0 to 7352\n",
            "Data columns (total 2 columns):\n",
            " #   Column       Non-Null Count  Dtype \n",
            "---  ------       --------------  ----- \n",
            " 0   review_body  7353 non-null   object\n",
            " 1   star_rating  7353 non-null   int64 \n",
            "dtypes: int64(1), object(1)\n",
            "memory usage: 115.0+ KB\n"
          ],
          "name": "stdout"
        }
      ]
    },
    {
      "cell_type": "code",
      "metadata": {
        "id": "FVEFnplg_f0d"
      },
      "source": [
        "featuresTrain=train_Df['review_body']\n",
        "labelTrain =train_Df['star_rating']\n",
        "\n",
        "featuresTest=test_Df['review_body']\n",
        "labelTest =test_Df['star_rating']"
      ],
      "execution_count": 32,
      "outputs": []
    },
    {
      "cell_type": "markdown",
      "metadata": {
        "id": "IP9Ob8b2_iMv"
      },
      "source": [
        "#Section 2 - converting from Panda Data set to Tensor data dset"
      ]
    },
    {
      "cell_type": "code",
      "metadata": {
        "id": "Bc_1l3JW_kYF"
      },
      "source": [
        "trainData = (tf.data.Dataset.from_tensor_slices((featuresTrain.values, labelTrain.values))).prefetch(1)\n",
        "testData = (tf.data.Dataset.from_tensor_slices((featuresTest.values, labelTest.values))).prefetch(1)"
      ],
      "execution_count": 33,
      "outputs": []
    },
    {
      "cell_type": "code",
      "metadata": {
        "colab": {
          "base_uri": "https://localhost:8080/"
        },
        "id": "P4cjVNIJ_mYU",
        "outputId": "c886a6f0-b8b6-43a5-eaed-bc7d0e7e31ee"
      },
      "source": [
        "trainData, testData"
      ],
      "execution_count": 34,
      "outputs": [
        {
          "output_type": "execute_result",
          "data": {
            "text/plain": [
              "(<PrefetchDataset shapes: ((), ()), types: (tf.string, tf.int64)>,\n",
              " <PrefetchDataset shapes: ((), ()), types: (tf.string, tf.int64)>)"
            ]
          },
          "metadata": {
            "tags": []
          },
          "execution_count": 34
        }
      ]
    },
    {
      "cell_type": "code",
      "metadata": {
        "colab": {
          "base_uri": "https://localhost:8080/"
        },
        "id": "JRuRGHJj_oBQ",
        "outputId": "9b3de0f9-304c-4518-81ae-231df6c73cec"
      },
      "source": [
        "#Testing if my panda dataset became tensor dataset successfully\n",
        "\n",
        "for featuresTrain, labelTrain in trainData.take(10):\n",
        "  print('features: {},\\t Target: {}\\n'.format(featuresTrain.numpy(),labelTrain.numpy()))"
      ],
      "execution_count": 35,
      "outputs": [
        {
          "output_type": "stream",
          "text": [
            "features: b'Great for price!',\t Target: 1\n",
            "\n",
            "features: b'Cheap quality and does not fit phone.',\t Target: 0\n",
            "\n",
            "features: b'Sound quality is pretty good (heavy on the bass). They pinch my ears a bit, so if you have a larger head they might not be for you.',\t Target: 1\n",
            "\n",
            "features: b'Heavy duty cable that works with my iPhone 5s. Will buy again.',\t Target: 1\n",
            "\n",
            "features: b'Received product fast and as described',\t Target: 1\n",
            "\n",
            "features: b'Great fit. But pretty slippery.',\t Target: 1\n",
            "\n",
            "features: b\"Worked great for 4 days. Then it wouldn't charge. Every time I tried to charge it, it would reset and just vibrate. Tried to contact the seller, but the language barrier made it all but impossible. Shipped on time and in good condition.\",\t Target: 0\n",
            "\n",
            "features: b'great Product.no instructions but look it up on YouTube',\t Target: 1\n",
            "\n",
            "features: b'I was very satisfied with the delivery time and the product.',\t Target: 1\n",
            "\n",
            "features: b'Like the phone. Still having trouble with downloading photos in messaging.',\t Target: 1\n",
            "\n"
          ],
          "name": "stdout"
        }
      ]
    },
    {
      "cell_type": "markdown",
      "metadata": {
        "id": "k42m2hmw_vO-"
      },
      "source": [
        "##Milestone No. 4\n",
        "Machine Learning II: Metrics results and documentation\n",
        "\n",
        "I have now to understand how RNN works\n",
        "\n"
      ]
    },
    {
      "cell_type": "markdown",
      "metadata": {
        "id": "xJN5xxB2_1-H"
      },
      "source": [
        "###Start to prepare for autotuning"
      ]
    },
    {
      "cell_type": "code",
      "metadata": {
        "id": "rfWy24e-_rNe"
      },
      "source": [
        "# bufferSize is the maximum number of tokens in any text input\n",
        "bufferSize = 10000\n",
        "\n",
        "# batchSize is the number of samples to propagate the network\n",
        "batchSize = 64\n",
        "\n",
        "# .shuffle() random suffle of data\n",
        "# .batch() select a batch of samples for the network\n",
        "# .prefetch() cache data while preceeding data is processed\n",
        "\n",
        "trainData = trainData.shuffle(buffer_size=bufferSize).batch(batchSize).prefetch(tf.data.AUTOTUNE)\n",
        "testData = testData.batch(batch_size=batchSize).prefetch(tf.data.AUTOTUNE)"
      ],
      "execution_count": 36,
      "outputs": []
    },
    {
      "cell_type": "markdown",
      "metadata": {
        "id": "6ujAjOkuA8bK"
      },
      "source": [
        ""
      ]
    },
    {
      "cell_type": "markdown",
      "metadata": {
        "id": "e1PyDXpo_5_O"
      },
      "source": [
        "#The Tokenization and Sequence Encoding\n",
        "\n",
        "![image.png](https://www.kdnuggets.com/wp-content/uploads/text-tokens-tokenization-manning.jpg)"
      ]
    },
    {
      "cell_type": "code",
      "metadata": {
        "id": "N_ZesBy7Be6b"
      },
      "source": [
        ""
      ],
      "execution_count": 36,
      "outputs": []
    },
    {
      "cell_type": "markdown",
      "metadata": {
        "id": "8JIrUKrGAWf9"
      },
      "source": [
        "![image.png](https://www.oreilly.com/library/view/applied-text-analysis/9781491963036/assets/atap_0408.png)"
      ]
    },
    {
      "cell_type": "code",
      "metadata": {
        "id": "wBR35MKBCCJl"
      },
      "source": [
        "# vocabSize is the number of unique of words\n",
        "vocabSize = 1000\n",
        "\n",
        "# TextVectorization will convert words to vector of tokens\n",
        "# For example, go from \"Man on the moon\" to [\"man\", \"on\", \"the\", \"moon\"]\n",
        "encoder = tf.keras.layers.experimental.preprocessing.TextVectorization(max_tokens=vocabSize)\n",
        "\n",
        "# Use .map() to exclude the label and return only the text from data\n",
        "tokensOnly = trainData.map(lambda text, label: text)\n",
        "\n",
        "# .adapt() will apply encoding to tokens only\n",
        "encoder.adapt(tokensOnly)"
      ],
      "execution_count": 37,
      "outputs": []
    },
    {
      "cell_type": "code",
      "metadata": {
        "colab": {
          "base_uri": "https://localhost:8080/"
        },
        "id": "HcuzUVDFCElr",
        "outputId": "e639eed5-6730-4d9a-8b9d-3239a99042f1"
      },
      "source": [
        "encoder"
      ],
      "execution_count": 38,
      "outputs": [
        {
          "output_type": "execute_result",
          "data": {
            "text/plain": [
              "<tensorflow.python.keras.layers.preprocessing.text_vectorization.TextVectorization at 0x7fba035f8310>"
            ]
          },
          "metadata": {
            "tags": []
          },
          "execution_count": 38
        }
      ]
    },
    {
      "cell_type": "code",
      "metadata": {
        "id": "b-6QOJKZCHVS"
      },
      "source": [
        "vocab = np.array(encoder.get_vocabulary())"
      ],
      "execution_count": 39,
      "outputs": []
    },
    {
      "cell_type": "code",
      "metadata": {
        "colab": {
          "base_uri": "https://localhost:8080/"
        },
        "id": "ya-GxYw6CI_y",
        "outputId": "9c892859-f752-4e6e-c1f7-6c5661eb11cd"
      },
      "source": [
        "vocab[4:35]"
      ],
      "execution_count": 40,
      "outputs": [
        {
          "output_type": "execute_result",
          "data": {
            "text/plain": [
              "array(['it', 'and', 'a', 'to', 'is', 'my', 'this', 'for', 'of', 'phone',\n",
              "       'in', 'on', 'with', 'case', 'not', 'great', 'that', 'but', 'was',\n",
              "       'have', 'you', 'as', 'very', 'so', 'good', 'one', 'product', 'its',\n",
              "       'works', 'love', 'like'], dtype='<U13')"
            ]
          },
          "metadata": {
            "tags": []
          },
          "execution_count": 40
        }
      ]
    },
    {
      "cell_type": "code",
      "metadata": {
        "colab": {
          "base_uri": "https://localhost:8080/"
        },
        "id": "skfIfnW-CLOE",
        "outputId": "b86f50b5-3d3c-4d87-bc6d-f836c06b06a7"
      },
      "source": [
        "encodedExample = encoder(featuresTrain)[4:35].numpy()\n",
        "encodedExample"
      ],
      "execution_count": 41,
      "outputs": [
        {
          "output_type": "execute_result",
          "data": {
            "text/plain": [
              "array([301, 957,  16,   1, 806,  14,   1])"
            ]
          },
          "metadata": {
            "tags": []
          },
          "execution_count": 41
        }
      ]
    },
    {
      "cell_type": "code",
      "metadata": {
        "id": "EKYlyo3UCPQ9"
      },
      "source": [
        "# Build the RNN\n",
        "# Here, we're using Bidirectional technique, which means\n",
        "# the data (reviews) will be analyzed left-to-right AND\n",
        "# right-to-left\n",
        "modelRNN = tf.keras.Sequential(\n",
        "    [\n",
        "        encoder,\n",
        "        tf.keras.layers.Embedding(\n",
        "            input_dim=len(encoder.get_vocabulary()), \n",
        "            output_dim=64,\n",
        "            mask_zero=True\n",
        "        ),\n",
        "        tf.keras.layers.Bidirectional(tf.keras.layers.LSTM(64)),\n",
        "        tf.keras.layers.Dense(64, activation='relu'),\n",
        "        tf.keras.layers.Dense(64, activation='relu'),\n",
        "        tf.keras.layers.Dense(1),\n",
        "    ]\n",
        ")"
      ],
      "execution_count": 42,
      "outputs": []
    },
    {
      "cell_type": "code",
      "metadata": {
        "id": "PLs7we6dCRKP"
      },
      "source": [
        "modelRNN.compile(\n",
        "    loss=tf.keras.losses.BinaryCrossentropy(from_logits=False, label_smoothing=0), \n",
        "    optimizer='adam', \n",
        "    metrics=['accuracy']\n",
        ")    "
      ],
      "execution_count": 43,
      "outputs": []
    },
    {
      "cell_type": "markdown",
      "metadata": {
        "id": "7w4Pi4n_CWPD"
      },
      "source": [
        "#Use of from_logits= False\n",
        "\n",
        "Use this cross-entropy loss for binary (0 or 1) classification applications. The loss function requires the following inputs:\n",
        "\n",
        "y_true (true label): This is either 0 or 1.\n",
        "y_pred (predicted value): This is the model's prediction, i.e, a single floating-point value which either represents a logit, (i.e, value in [-inf, inf] when from_logits=True) or a probability (i.e, value in [0., 1.] when from_logits=False).\n",
        "\n",
        "Mathematically, the logit is the inverse of the standard logistic function \n",
        "\n",
        "\n",
        "\n",
        "\n",
        "\n",
        "![image.png](https://www.machinecurve.com/wp-content/uploads/2019/10/bce_t0-1024x459.png)"
      ]
    },
    {
      "cell_type": "code",
      "metadata": {
        "colab": {
          "base_uri": "https://localhost:8080/"
        },
        "id": "zv1jEfOBC2ty",
        "outputId": "98cab3c2-a111-4ae9-8839-861ad575c74d"
      },
      "source": [
        "# I used 6 epochs to attain higher accuracies\n",
        "metrics = modelRNN.fit(\n",
        "    trainData,\n",
        "    epochs=10\n",
        ")\n",
        "\n"
      ],
      "execution_count": 44,
      "outputs": [
        {
          "output_type": "stream",
          "text": [
            "Epoch 1/10\n",
            "173/173 [==============================] - 116s 615ms/step - loss: 0.5350 - accuracy: 0.7519\n",
            "Epoch 2/10\n",
            "173/173 [==============================] - 102s 589ms/step - loss: 0.2942 - accuracy: 0.8774\n",
            "Epoch 3/10\n",
            "173/173 [==============================] - 102s 590ms/step - loss: 0.2241 - accuracy: 0.9197\n",
            "Epoch 4/10\n",
            "173/173 [==============================] - 105s 605ms/step - loss: 0.2077 - accuracy: 0.9279\n",
            "Epoch 5/10\n",
            "173/173 [==============================] - 104s 600ms/step - loss: 0.1906 - accuracy: 0.9404\n",
            "Epoch 6/10\n",
            "173/173 [==============================] - 102s 589ms/step - loss: 0.1772 - accuracy: 0.9523\n",
            "Epoch 7/10\n",
            "173/173 [==============================] - 103s 592ms/step - loss: 0.1487 - accuracy: 0.9615\n",
            "Epoch 8/10\n",
            "173/173 [==============================] - 103s 595ms/step - loss: 0.1300 - accuracy: 0.9694\n",
            "Epoch 9/10\n",
            "173/173 [==============================] - 101s 582ms/step - loss: 0.1393 - accuracy: 0.9707\n",
            "Epoch 10/10\n",
            "173/173 [==============================] - 100s 570ms/step - loss: 0.1328 - accuracy: 0.9772\n"
          ],
          "name": "stdout"
        }
      ]
    },
    {
      "cell_type": "code",
      "metadata": {
        "colab": {
          "base_uri": "https://localhost:8080/",
          "height": 310
        },
        "id": "5pbE_t3PC9TR",
        "outputId": "1aa2cf12-23a3-4521-ce6a-7158937dbb3f"
      },
      "source": [
        "#plotting the accuracy and loss \n",
        "#per last run, I was able to attain 96% accuracy and loss of 8.68%\n",
        "plt.plot(metrics.history['accuracy'])\n",
        "plt.plot(metrics.history['loss'])\n",
        "plt.title('Train  Data Metrics \\n (Accuracy vs. loss)')\n",
        "plt.ylabel('Accuracy and Loss Scores')\n",
        "plt.xlabel('epoch')\n",
        "plt.legend(['accuracy', 'loss'], loc='upper left')\n",
        "plt.show()"
      ],
      "execution_count": 45,
      "outputs": [
        {
          "output_type": "display_data",
          "data": {
            "image/png": "[encoded data removed]",
            "text/plain": [
              "<Figure size 432x288 with 1 Axes>"
            ]
          },
          "metadata": {
            "tags": [],
            "needs_background": "light"
          }
        }
      ]
    },
    {
      "cell_type": "code",
      "metadata": {
        "colab": {
          "base_uri": "https://localhost:8080/"
        },
        "id": "-SXd9BYHDCY1",
        "outputId": "ec9bb930-003d-4ee1-e843-6de29113835a"
      },
      "source": [
        "# Check metrics after test (evaluate)\n",
        "testLoss, testAccuracy = modelRNN.evaluate(testData)\n",
        "\n",
        "print('Loss: ', testLoss)\n",
        "print('Accuracy: ', testAccuracy)"
      ],
      "execution_count": 46,
      "outputs": [
        {
          "output_type": "stream",
          "text": [
            "115/115 [==============================] - 21s 164ms/step - loss: 0.8336 - accuracy: 0.9047\n",
            "Loss:  0.8335728049278259\n",
            "Accuracy:  0.9046647548675537\n"
          ],
          "name": "stdout"
        }
      ]
    },
    {
      "cell_type": "code",
      "metadata": {
        "colab": {
          "base_uri": "https://localhost:8080/",
          "height": 296
        },
        "id": "HhjjQft6DEFM",
        "outputId": "b405a428-7ce0-428d-ae14-22b7fed62bf6"
      },
      "source": [
        "# Visualize the metrics\n",
        "fig, ax = plt.subplots()\n",
        "\n",
        "p1 = ax.bar(0.5, testLoss, 0.21, bottom=None, label='Loss')\n",
        "p2 = ax.bar(0.25, testAccuracy, 0.21, bottom=None, label='Accuracy')\n",
        "\n",
        "ax.axhline(0, color='black', linewidth=0.4)\n",
        "ax.set_ylabel('Accuracy and Loss Scores')\n",
        "ax.set_title('Test Data Metrics \\n (Accuracy vs. loss)')\n",
        "ax.set_xticklabels((' ',  ' '))\n",
        "ax.legend()\n",
        "\n",
        "plt.show()"
      ],
      "execution_count": 47,
      "outputs": [
        {
          "output_type": "display_data",
          "data": {
            "image/png": "[encoded data removed]",
            "text/plain": [
              "<Figure size 432x288 with 1 Axes>"
            ]
          },
          "metadata": {
            "tags": [],
            "needs_background": "light"
          }
        }
      ]
    },
    {
      "cell_type": "code",
      "metadata": {
        "id": "ilzLi3syDG-O"
      },
      "source": [
        "# Test Prediction\n",
        "sampleMovieReview = [\n",
        "    'What a great movie!! Would definitely watch again',\n",
        "    'worse bad no not dont '\n",
        "]\n",
        "\n",
        "predictions = modelRNN.predict( np.array(sampleMovieReview) )"
      ],
      "execution_count": 48,
      "outputs": []
    },
    {
      "cell_type": "code",
      "metadata": {
        "colab": {
          "base_uri": "https://localhost:8080/"
        },
        "id": "7wv1b4mHDLaE",
        "outputId": "11fc3a36-aeb5-49eb-8276-46f424a1f439"
      },
      "source": [
        "print(predictions)"
      ],
      "execution_count": 49,
      "outputs": [
        {
          "output_type": "stream",
          "text": [
            "[[ 2.2104774 ]\n",
            " [-0.09642987]]\n"
          ],
          "name": "stdout"
        }
      ]
    },
    {
      "cell_type": "markdown",
      "metadata": {
        "id": "j7P5aC0SU9qt"
      },
      "source": [
        "# Decision\n",
        "\n",
        "to demonstrate further, I have listed 200 different remarks and make predict scores"
      ]
    },
    {
      "cell_type": "code",
      "metadata": {
        "id": "mJxvCl9PUrOR"
      },
      "source": [
        "sampleDf = pd.read_csv('./Endproduct_sampling.csv')"
      ],
      "execution_count": 116,
      "outputs": []
    },
    {
      "cell_type": "code",
      "metadata": {
        "id": "lm10VWQgVs8K"
      },
      "source": [
        "sampleDf = sampleDf.head(5000)"
      ],
      "execution_count": 117,
      "outputs": []
    },
    {
      "cell_type": "code",
      "metadata": {
        "id": "Ir4ryanMKwg1",
        "outputId": "ae6f6bac-fc91-4956-8e35-1d16aeab3521",
        "colab": {
          "base_uri": "https://localhost:8080/",
          "height": 419
        }
      },
      "source": [
        "sampleDf\n",
        "\n"
      ],
      "execution_count": 137,
      "outputs": [
        {
          "output_type": "execute_result",
          "data": {
            "text/html": [
              "<div>\n",
              "<style scoped>\n",
              "    .dataframe tbody tr th:only-of-type {\n",
              "        vertical-align: middle;\n",
              "    }\n",
              "\n",
              "    .dataframe tbody tr th {\n",
              "        vertical-align: top;\n",
              "    }\n",
              "\n",
              "    .dataframe thead th {\n",
              "        text-align: right;\n",
              "    }\n",
              "</style>\n",
              "<table border=\"1\" class=\"dataframe\">\n",
              "  <thead>\n",
              "    <tr style=\"text-align: right;\">\n",
              "      <th></th>\n",
              "      <th>star_rating</th>\n",
              "      <th>review_body</th>\n",
              "      <th>Prediction</th>\n",
              "    </tr>\n",
              "  </thead>\n",
              "  <tbody>\n",
              "    <tr>\n",
              "      <th>0</th>\n",
              "      <td>2</td>\n",
              "      <td>2 issues  -  Once I turned on the circle apps ...</td>\n",
              "      <td>0.215951</td>\n",
              "    </tr>\n",
              "    <tr>\n",
              "      <th>1</th>\n",
              "      <td>4</td>\n",
              "      <td>I’m embarrassed to admit that until recently, ...</td>\n",
              "      <td>1.009227</td>\n",
              "    </tr>\n",
              "    <tr>\n",
              "      <th>2</th>\n",
              "      <td>5</td>\n",
              "      <td>Fits iPhone 6 well</td>\n",
              "      <td>2.117872</td>\n",
              "    </tr>\n",
              "    <tr>\n",
              "      <th>3</th>\n",
              "      <td>5</td>\n",
              "      <td>Great charger.  I easily get 3+ charges on a S...</td>\n",
              "      <td>3.736694</td>\n",
              "    </tr>\n",
              "    <tr>\n",
              "      <th>4</th>\n",
              "      <td>5</td>\n",
              "      <td>Great for the price :-)</td>\n",
              "      <td>2.783396</td>\n",
              "    </tr>\n",
              "    <tr>\n",
              "      <th>...</th>\n",
              "      <td>...</td>\n",
              "      <td>...</td>\n",
              "      <td>...</td>\n",
              "    </tr>\n",
              "    <tr>\n",
              "      <th>4995</th>\n",
              "      <td>1</td>\n",
              "      <td>Didn't work. Had to return.</td>\n",
              "      <td>-0.307049</td>\n",
              "    </tr>\n",
              "    <tr>\n",
              "      <th>4996</th>\n",
              "      <td>4</td>\n",
              "      <td>Magpul cases are always great value for the mo...</td>\n",
              "      <td>1.537805</td>\n",
              "    </tr>\n",
              "    <tr>\n",
              "      <th>4997</th>\n",
              "      <td>5</td>\n",
              "      <td>Very useful - clip your cell-phone in this and...</td>\n",
              "      <td>2.331559</td>\n",
              "    </tr>\n",
              "    <tr>\n",
              "      <th>4998</th>\n",
              "      <td>4</td>\n",
              "      <td>This item is fine, but why, OH WHY does it hav...</td>\n",
              "      <td>1.223606</td>\n",
              "    </tr>\n",
              "    <tr>\n",
              "      <th>4999</th>\n",
              "      <td>4</td>\n",
              "      <td>Nice durable  case.  The volume and power on/o...</td>\n",
              "      <td>1.438527</td>\n",
              "    </tr>\n",
              "  </tbody>\n",
              "</table>\n",
              "<p>5000 rows × 3 columns</p>\n",
              "</div>"
            ],
            "text/plain": [
              "      star_rating  ... Prediction\n",
              "0               2  ...   0.215951\n",
              "1               4  ...   1.009227\n",
              "2               5  ...   2.117872\n",
              "3               5  ...   3.736694\n",
              "4               5  ...   2.783396\n",
              "...           ...  ...        ...\n",
              "4995            1  ...  -0.307049\n",
              "4996            4  ...   1.537805\n",
              "4997            5  ...   2.331559\n",
              "4998            4  ...   1.223606\n",
              "4999            4  ...   1.438527\n",
              "\n",
              "[5000 rows x 3 columns]"
            ]
          },
          "metadata": {
            "tags": []
          },
          "execution_count": 137
        }
      ]
    },
    {
      "cell_type": "code",
      "metadata": {
        "id": "Ke7hGaCsWBFv"
      },
      "source": [
        "# encoding Prediction to the dataset\n",
        "\n",
        "\n",
        "sampleDf['Prediction'] = modelRNN.predict(sampleDf['review_body'])"
      ],
      "execution_count": 119,
      "outputs": []
    },
    {
      "cell_type": "code",
      "metadata": {
        "colab": {
          "base_uri": "https://localhost:8080/",
          "height": 419
        },
        "id": "NlJCdGasWmAg",
        "outputId": "d804f04f-7497-4f9b-c701-b0e64b960d83"
      },
      "source": [
        "sampleDf= sampleDf.sort_values(by=['star_rating'])\n",
        "#df.sort_values(by=['col1'])\n",
        "sampleDf"
      ],
      "execution_count": 143,
      "outputs": [
        {
          "output_type": "execute_result",
          "data": {
            "text/html": [
              "<div>\n",
              "<style scoped>\n",
              "    .dataframe tbody tr th:only-of-type {\n",
              "        vertical-align: middle;\n",
              "    }\n",
              "\n",
              "    .dataframe tbody tr th {\n",
              "        vertical-align: top;\n",
              "    }\n",
              "\n",
              "    .dataframe thead th {\n",
              "        text-align: right;\n",
              "    }\n",
              "</style>\n",
              "<table border=\"1\" class=\"dataframe\">\n",
              "  <thead>\n",
              "    <tr style=\"text-align: right;\">\n",
              "      <th></th>\n",
              "      <th>star_rating</th>\n",
              "      <th>review_body</th>\n",
              "      <th>Prediction</th>\n",
              "    </tr>\n",
              "  </thead>\n",
              "  <tbody>\n",
              "    <tr>\n",
              "      <th>2776</th>\n",
              "      <td>1</td>\n",
              "      <td>Terrible. Stopped working, no longer charging,...</td>\n",
              "      <td>-0.960962</td>\n",
              "    </tr>\n",
              "    <tr>\n",
              "      <th>259</th>\n",
              "      <td>1</td>\n",
              "      <td>Don't work got my phone wet when it feel in th...</td>\n",
              "      <td>-0.246273</td>\n",
              "    </tr>\n",
              "    <tr>\n",
              "      <th>4319</th>\n",
              "      <td>1</td>\n",
              "      <td>does not fit the edge 6</td>\n",
              "      <td>-0.244361</td>\n",
              "    </tr>\n",
              "    <tr>\n",
              "      <th>343</th>\n",
              "      <td>1</td>\n",
              "      <td>It broke after only one week</td>\n",
              "      <td>-0.244079</td>\n",
              "    </tr>\n",
              "    <tr>\n",
              "      <th>1634</th>\n",
              "      <td>1</td>\n",
              "      <td>Self-destructed very quickly, not worth the ef...</td>\n",
              "      <td>-0.242306</td>\n",
              "    </tr>\n",
              "    <tr>\n",
              "      <th>...</th>\n",
              "      <td>...</td>\n",
              "      <td>...</td>\n",
              "      <td>...</td>\n",
              "    </tr>\n",
              "    <tr>\n",
              "      <th>12</th>\n",
              "      <td>5</td>\n",
              "      <td>I received this on time and its great. I went ...</td>\n",
              "      <td>3.415828</td>\n",
              "    </tr>\n",
              "    <tr>\n",
              "      <th>3363</th>\n",
              "      <td>5</td>\n",
              "      <td>After receiving a replacement for a defective ...</td>\n",
              "      <td>3.416765</td>\n",
              "    </tr>\n",
              "    <tr>\n",
              "      <th>1749</th>\n",
              "      <td>5</td>\n",
              "      <td>I will admit that I am a Spigen fan. They make...</td>\n",
              "      <td>3.418677</td>\n",
              "    </tr>\n",
              "    <tr>\n",
              "      <th>3876</th>\n",
              "      <td>5</td>\n",
              "      <td>Other than I cannot figure out how to delete i...</td>\n",
              "      <td>3.376330</td>\n",
              "    </tr>\n",
              "    <tr>\n",
              "      <th>3596</th>\n",
              "      <td>5</td>\n",
              "      <td>Great product. It's everything I expected and ...</td>\n",
              "      <td>6.830416</td>\n",
              "    </tr>\n",
              "  </tbody>\n",
              "</table>\n",
              "<p>5000 rows × 3 columns</p>\n",
              "</div>"
            ],
            "text/plain": [
              "      star_rating  ... Prediction\n",
              "2776            1  ...  -0.960962\n",
              "259             1  ...  -0.246273\n",
              "4319            1  ...  -0.244361\n",
              "343             1  ...  -0.244079\n",
              "1634            1  ...  -0.242306\n",
              "...           ...  ...        ...\n",
              "12              5  ...   3.415828\n",
              "3363            5  ...   3.416765\n",
              "1749            5  ...   3.418677\n",
              "3876            5  ...   3.376330\n",
              "3596            5  ...   6.830416\n",
              "\n",
              "[5000 rows x 3 columns]"
            ]
          },
          "metadata": {
            "tags": []
          },
          "execution_count": 143
        }
      ]
    },
    {
      "cell_type": "code",
      "metadata": {
        "id": "ptgiL-HfLRKw",
        "outputId": "e52c922e-4b1e-4db6-d64e-9fc2b01f07e1",
        "colab": {
          "base_uri": "https://localhost:8080/",
          "height": 296
        }
      },
      "source": [
        "import matplotlib.pyplot as plt\n",
        "%matplotlib inline\n",
        "\n",
        "# Create an array of color channels\n",
        "colormap = np.array(['r', 'g', 'b','m', 'y', 'r'])\n",
        "\n",
        "# Generate the scatter plot for the observations\n",
        "plt.scatter(\n",
        "    sampleDf['star_rating'], \n",
        "    sampleDf['Prediction'],\n",
        "    c=colormap[sampleDf['star_rating']]\n",
        "  )\n",
        "\n",
        "\n",
        "# Add labels for x-axis and y-axis\n",
        "plt.xlabel('Star Rating')\n",
        "plt.ylabel('Prediction')"
      ],
      "execution_count": 150,
      "outputs": [
        {
          "output_type": "execute_result",
          "data": {
            "text/plain": [
              "Text(0, 0.5, 'Prediction')"
            ]
          },
          "metadata": {
            "tags": []
          },
          "execution_count": 150
        },
        {
          "output_type": "display_data",
          "data": {
            "image/png": "[encoded data removed]",
            "text/plain": [
              "<Figure size 432x288 with 1 Axes>"
            ]
          },
          "metadata": {
            "tags": [],
            "needs_background": "light"
          }
        }
      ]
    },
    {
      "cell_type": "markdown",
      "metadata": {
        "id": "0zT4A3ORQvs_"
      },
      "source": [
        "#Conclusion\n",
        "\n",
        "Above data shows that for star rating 4,5 the reviews barely touches negative territory (+0 to 1) and for 1 and 2, most of the remarks touches -1 to 1. "
      ]
    }
  ]
}