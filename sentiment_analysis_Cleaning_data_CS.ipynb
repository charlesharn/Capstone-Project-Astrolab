{
  "nbformat": 4,
  "nbformat_minor": 0,
  "metadata": {
    "colab": {
      "name": "sentiment_analysis-Cleaning-data CS.ipynb",
      "provenance": [],
      "collapsed_sections": []
    },
    "kernelspec": {
      "name": "python3",
      "display_name": "Python 3"
    },
    "language_info": {
      "name": "python"
    }
  },
  "cells": [
    {
      "cell_type": "markdown",
      "metadata": {
        "id": "6jsQJayufolt"
      },
      "source": [
        "#Capstone Project - Sentiment Analysis \n",
        "##Milestone No. 1\n",
        "Data Engineering I: Cleaning data and converting data types"
      ]
    },
    {
      "cell_type": "code",
      "metadata": {
        "id": "YsXRabf9fvfr"
      },
      "source": [
        "# Import libraries\n",
        "import pandas as pd\n",
        "import numpy as np\n",
        "from sklearn.preprocessing import MinMaxScaler"
      ],
      "execution_count": 79,
      "outputs": []
    },
    {
      "cell_type": "code",
      "metadata": {
        "id": "2aKiGlApkNmu"
      },
      "source": [
        ""
      ],
      "execution_count": 79,
      "outputs": []
    },
    {
      "cell_type": "markdown",
      "metadata": {
        "id": "Ttus5kXxkco3"
      },
      "source": [
        "# Section 1 - read csv file\n",
        "I converted the tsv file (1.1gb) into .csv file around 1mm records and 500mb file  but i planned to use at most, 20K records.\n",
        "\n",
        "procedure -cleaning data \n",
        "\n",
        "1. upload the database to colab and assign it into a data frame variable name sentimentDf. I  \n",
        "\n",
        "2. check the column header by executing .head()\n",
        "3. delete unimportant columns "
      ]
    },
    {
      "cell_type": "code",
      "metadata": {
        "id": "4cukqW4Yjg_y"
      },
      "source": [
        "sentimentDf = pd.read_csv('./amazon_reviews_us_Wireless_sampling.csv')"
      ],
      "execution_count": 80,
      "outputs": []
    },
    {
      "cell_type": "code",
      "metadata": {
        "colab": {
          "base_uri": "https://localhost:8080/"
        },
        "id": "vBHcBFLzqbHg",
        "outputId": "c28ff9d9-ffa6-4b50-da23-bc0c085e440c"
      },
      "source": [
        "sentimentDf.info()"
      ],
      "execution_count": 81,
      "outputs": [
        {
          "output_type": "stream",
          "text": [
            "<class 'pandas.core.frame.DataFrame'>\n",
            "RangeIndex: 19999 entries, 0 to 19998\n",
            "Data columns (total 15 columns):\n",
            " #   Column             Non-Null Count  Dtype \n",
            "---  ------             --------------  ----- \n",
            " 0   marketplace        19999 non-null  object\n",
            " 1   customer_id        19999 non-null  int64 \n",
            " 2   review_id          19999 non-null  object\n",
            " 3   product_id         19999 non-null  object\n",
            " 4   product_parent     19999 non-null  int64 \n",
            " 5   product_title      19999 non-null  object\n",
            " 6   product_category   19999 non-null  object\n",
            " 7   star_rating        19999 non-null  int64 \n",
            " 8   helpful_votes      19999 non-null  int64 \n",
            " 9   total_votes        19999 non-null  int64 \n",
            " 10  vine               19999 non-null  object\n",
            " 11  verified_purchase  19999 non-null  object\n",
            " 12  review_headline    19999 non-null  object\n",
            " 13  review_body        19995 non-null  object\n",
            " 14  review_date        19999 non-null  object\n",
            "dtypes: int64(5), object(10)\n",
            "memory usage: 2.3+ MB\n"
          ],
          "name": "stdout"
        }
      ]
    },
    {
      "cell_type": "code",
      "metadata": {
        "colab": {
          "base_uri": "https://localhost:8080/",
          "height": 536
        },
        "id": "grWHFA59t6lS",
        "outputId": "47a01358-2cac-4c0e-b49f-97014a0ef725"
      },
      "source": [
        "sentimentDf.head()"
      ],
      "execution_count": 82,
      "outputs": [
        {
          "output_type": "execute_result",
          "data": {
            "text/html": [
              "<div>\n",
              "<style scoped>\n",
              "    .dataframe tbody tr th:only-of-type {\n",
              "        vertical-align: middle;\n",
              "    }\n",
              "\n",
              "    .dataframe tbody tr th {\n",
              "        vertical-align: top;\n",
              "    }\n",
              "\n",
              "    .dataframe thead th {\n",
              "        text-align: right;\n",
              "    }\n",
              "</style>\n",
              "<table border=\"1\" class=\"dataframe\">\n",
              "  <thead>\n",
              "    <tr style=\"text-align: right;\">\n",
              "      <th></th>\n",
              "      <th>marketplace</th>\n",
              "      <th>customer_id</th>\n",
              "      <th>review_id</th>\n",
              "      <th>product_id</th>\n",
              "      <th>product_parent</th>\n",
              "      <th>product_title</th>\n",
              "      <th>product_category</th>\n",
              "      <th>star_rating</th>\n",
              "      <th>helpful_votes</th>\n",
              "      <th>total_votes</th>\n",
              "      <th>vine</th>\n",
              "      <th>verified_purchase</th>\n",
              "      <th>review_headline</th>\n",
              "      <th>review_body</th>\n",
              "      <th>review_date</th>\n",
              "    </tr>\n",
              "  </thead>\n",
              "  <tbody>\n",
              "    <tr>\n",
              "      <th>0</th>\n",
              "      <td>US</td>\n",
              "      <td>16414143</td>\n",
              "      <td>R3W4P9UBGNGH1U</td>\n",
              "      <td>B00YL0EKWE</td>\n",
              "      <td>852431543</td>\n",
              "      <td>LG G4 Case Hard Transparent Slim Clear Cover f...</td>\n",
              "      <td>Wireless</td>\n",
              "      <td>2</td>\n",
              "      <td>1</td>\n",
              "      <td>3</td>\n",
              "      <td>N</td>\n",
              "      <td>Y</td>\n",
              "      <td>Looks good, functions meh</td>\n",
              "      <td>2 issues  -  Once I turned on the circle apps ...</td>\n",
              "      <td>8/31/2015</td>\n",
              "    </tr>\n",
              "    <tr>\n",
              "      <th>1</th>\n",
              "      <td>US</td>\n",
              "      <td>50800750</td>\n",
              "      <td>R15V54KBMTQWAY</td>\n",
              "      <td>B00XK95RPQ</td>\n",
              "      <td>516894650</td>\n",
              "      <td>Selfie Stick Fiblastiq&amp;trade; Extendable Wirel...</td>\n",
              "      <td>Wireless</td>\n",
              "      <td>4</td>\n",
              "      <td>0</td>\n",
              "      <td>0</td>\n",
              "      <td>N</td>\n",
              "      <td>N</td>\n",
              "      <td>A fun little gadget</td>\n",
              "      <td>I’m embarrassed to admit that until recently, ...</td>\n",
              "      <td>8/31/2015</td>\n",
              "    </tr>\n",
              "    <tr>\n",
              "      <th>2</th>\n",
              "      <td>US</td>\n",
              "      <td>15184378</td>\n",
              "      <td>RY8I449HNXSVF</td>\n",
              "      <td>B00SXRXUKO</td>\n",
              "      <td>984297154</td>\n",
              "      <td>Tribe AB40 Water Resistant Sports Armband with...</td>\n",
              "      <td>Wireless</td>\n",
              "      <td>5</td>\n",
              "      <td>0</td>\n",
              "      <td>0</td>\n",
              "      <td>N</td>\n",
              "      <td>Y</td>\n",
              "      <td>Five Stars</td>\n",
              "      <td>Fits iPhone 6 well</td>\n",
              "      <td>8/31/2015</td>\n",
              "    </tr>\n",
              "    <tr>\n",
              "      <th>3</th>\n",
              "      <td>US</td>\n",
              "      <td>10203548</td>\n",
              "      <td>R18TLJYCKJFLSR</td>\n",
              "      <td>B009V5X1CE</td>\n",
              "      <td>279912704</td>\n",
              "      <td>RAVPower® Element 10400mAh External Battery US...</td>\n",
              "      <td>Wireless</td>\n",
              "      <td>5</td>\n",
              "      <td>0</td>\n",
              "      <td>0</td>\n",
              "      <td>N</td>\n",
              "      <td>Y</td>\n",
              "      <td>Great charger</td>\n",
              "      <td>Great charger.  I easily get 3+ charges on a S...</td>\n",
              "      <td>8/31/2015</td>\n",
              "    </tr>\n",
              "    <tr>\n",
              "      <th>4</th>\n",
              "      <td>US</td>\n",
              "      <td>488280</td>\n",
              "      <td>R1NK26SWS53B8Q</td>\n",
              "      <td>B00D93OVF0</td>\n",
              "      <td>662791300</td>\n",
              "      <td>Fosmon Micro USB Value Pack Bundle for Samsung...</td>\n",
              "      <td>Wireless</td>\n",
              "      <td>5</td>\n",
              "      <td>0</td>\n",
              "      <td>0</td>\n",
              "      <td>N</td>\n",
              "      <td>Y</td>\n",
              "      <td>Five Stars</td>\n",
              "      <td>Great for the price :-)</td>\n",
              "      <td>8/31/2015</td>\n",
              "    </tr>\n",
              "  </tbody>\n",
              "</table>\n",
              "</div>"
            ],
            "text/plain": [
              "  marketplace  ...  review_date\n",
              "0          US  ...    8/31/2015\n",
              "1          US  ...    8/31/2015\n",
              "2          US  ...    8/31/2015\n",
              "3          US  ...    8/31/2015\n",
              "4          US  ...    8/31/2015\n",
              "\n",
              "[5 rows x 15 columns]"
            ]
          },
          "metadata": {
            "tags": []
          },
          "execution_count": 82
        }
      ]
    },
    {
      "cell_type": "code",
      "metadata": {
        "colab": {
          "base_uri": "https://localhost:8080/"
        },
        "id": "V0OxKafwqzHz",
        "outputId": "7c83ba00-be39-4843-ee10-dce480379dd1"
      },
      "source": [
        "#dropping unneeded columns\n",
        "toDrop =['marketplace','customer_id','review_id','product_id','product_parent','helpful_votes','total_votes','product_title','product_category','vine','verified_purchase','review_headline',\t'review_date']\n",
        "\n",
        "print(toDrop)"
      ],
      "execution_count": 83,
      "outputs": [
        {
          "output_type": "stream",
          "text": [
            "['marketplace', 'customer_id', 'review_id', 'product_id', 'product_parent', 'helpful_votes', 'total_votes', 'product_title', 'product_category', 'vine', 'verified_purchase', 'review_headline', 'review_date']\n"
          ],
          "name": "stdout"
        }
      ]
    },
    {
      "cell_type": "code",
      "metadata": {
        "id": "KPYeH7y6wlyq"
      },
      "source": [
        "sentimentDf.drop(toDrop,axis=1,errors='ignore', inplace=True)"
      ],
      "execution_count": 84,
      "outputs": []
    },
    {
      "cell_type": "code",
      "metadata": {
        "colab": {
          "base_uri": "https://localhost:8080/",
          "height": 205
        },
        "id": "Ffr2dtifxF5R",
        "outputId": "9086f766-283f-471c-8933-ab161cb59b2a"
      },
      "source": [
        "sentimentDf.head()"
      ],
      "execution_count": 85,
      "outputs": [
        {
          "output_type": "execute_result",
          "data": {
            "text/html": [
              "<div>\n",
              "<style scoped>\n",
              "    .dataframe tbody tr th:only-of-type {\n",
              "        vertical-align: middle;\n",
              "    }\n",
              "\n",
              "    .dataframe tbody tr th {\n",
              "        vertical-align: top;\n",
              "    }\n",
              "\n",
              "    .dataframe thead th {\n",
              "        text-align: right;\n",
              "    }\n",
              "</style>\n",
              "<table border=\"1\" class=\"dataframe\">\n",
              "  <thead>\n",
              "    <tr style=\"text-align: right;\">\n",
              "      <th></th>\n",
              "      <th>star_rating</th>\n",
              "      <th>review_body</th>\n",
              "    </tr>\n",
              "  </thead>\n",
              "  <tbody>\n",
              "    <tr>\n",
              "      <th>0</th>\n",
              "      <td>2</td>\n",
              "      <td>2 issues  -  Once I turned on the circle apps ...</td>\n",
              "    </tr>\n",
              "    <tr>\n",
              "      <th>1</th>\n",
              "      <td>4</td>\n",
              "      <td>I’m embarrassed to admit that until recently, ...</td>\n",
              "    </tr>\n",
              "    <tr>\n",
              "      <th>2</th>\n",
              "      <td>5</td>\n",
              "      <td>Fits iPhone 6 well</td>\n",
              "    </tr>\n",
              "    <tr>\n",
              "      <th>3</th>\n",
              "      <td>5</td>\n",
              "      <td>Great charger.  I easily get 3+ charges on a S...</td>\n",
              "    </tr>\n",
              "    <tr>\n",
              "      <th>4</th>\n",
              "      <td>5</td>\n",
              "      <td>Great for the price :-)</td>\n",
              "    </tr>\n",
              "  </tbody>\n",
              "</table>\n",
              "</div>"
            ],
            "text/plain": [
              "   star_rating                                        review_body\n",
              "0            2  2 issues  -  Once I turned on the circle apps ...\n",
              "1            4  I’m embarrassed to admit that until recently, ...\n",
              "2            5                                 Fits iPhone 6 well\n",
              "3            5  Great charger.  I easily get 3+ charges on a S...\n",
              "4            5                            Great for the price :-)"
            ]
          },
          "metadata": {
            "tags": []
          },
          "execution_count": 85
        }
      ]
    },
    {
      "cell_type": "code",
      "metadata": {
        "colab": {
          "base_uri": "https://localhost:8080/"
        },
        "id": "0iNoGEmwxj8q",
        "outputId": "69ee8bd5-f7ec-4f3a-f6c3-34aa2ef46cbc"
      },
      "source": [
        "sentimentDf.info()"
      ],
      "execution_count": 86,
      "outputs": [
        {
          "output_type": "stream",
          "text": [
            "<class 'pandas.core.frame.DataFrame'>\n",
            "RangeIndex: 19999 entries, 0 to 19998\n",
            "Data columns (total 2 columns):\n",
            " #   Column       Non-Null Count  Dtype \n",
            "---  ------       --------------  ----- \n",
            " 0   star_rating  19999 non-null  int64 \n",
            " 1   review_body  19995 non-null  object\n",
            "dtypes: int64(1), object(1)\n",
            "memory usage: 312.6+ KB\n"
          ],
          "name": "stdout"
        }
      ]
    },
    {
      "cell_type": "markdown",
      "metadata": {
        "id": "Z6yar9rWyRU_"
      },
      "source": [
        "#section2 \n",
        "this is to show that I would only need the star rating given by the commenter to check if it is a positive or negative view \n",
        "\n",
        "a positive view will be rated 1 (4-5 stars) 0 for neutral (3 stars) and -1 for (1-2) stars\n",
        "\n",
        "hence if star_rating => 4 to 5 then 1\n",
        "         star_rating = 3 then 0 \n",
        "         star_rating = 0 to 2 then -1 \n",
        "\n",
        "review_body will be retained as is "
      ]
    },
    {
      "cell_type": "code",
      "metadata": {
        "colab": {
          "base_uri": "https://localhost:8080/",
          "height": 205
        },
        "id": "D8R0egYg3wfk",
        "outputId": "22128977-a811-457a-b43e-7f98a1599c55"
      },
      "source": [
        "# Convert 'star_rating' to -1,0 1 \n",
        "# .map() will map values in the original to values in the specified data\n",
        "star_ratingFlag = {\n",
        "    1 : -1,\n",
        "    2 : -1,\n",
        "    3 : 0,\n",
        "    4 : 1,\n",
        "    5 : 1\n",
        "}\n",
        "\n",
        "sentimentDf['star_rating'] = sentimentDf['star_rating'].map(star_ratingFlag)\n",
        "sentimentDf.head()"
      ],
      "execution_count": 87,
      "outputs": [
        {
          "output_type": "execute_result",
          "data": {
            "text/html": [
              "<div>\n",
              "<style scoped>\n",
              "    .dataframe tbody tr th:only-of-type {\n",
              "        vertical-align: middle;\n",
              "    }\n",
              "\n",
              "    .dataframe tbody tr th {\n",
              "        vertical-align: top;\n",
              "    }\n",
              "\n",
              "    .dataframe thead th {\n",
              "        text-align: right;\n",
              "    }\n",
              "</style>\n",
              "<table border=\"1\" class=\"dataframe\">\n",
              "  <thead>\n",
              "    <tr style=\"text-align: right;\">\n",
              "      <th></th>\n",
              "      <th>star_rating</th>\n",
              "      <th>review_body</th>\n",
              "    </tr>\n",
              "  </thead>\n",
              "  <tbody>\n",
              "    <tr>\n",
              "      <th>0</th>\n",
              "      <td>-1</td>\n",
              "      <td>2 issues  -  Once I turned on the circle apps ...</td>\n",
              "    </tr>\n",
              "    <tr>\n",
              "      <th>1</th>\n",
              "      <td>1</td>\n",
              "      <td>I’m embarrassed to admit that until recently, ...</td>\n",
              "    </tr>\n",
              "    <tr>\n",
              "      <th>2</th>\n",
              "      <td>1</td>\n",
              "      <td>Fits iPhone 6 well</td>\n",
              "    </tr>\n",
              "    <tr>\n",
              "      <th>3</th>\n",
              "      <td>1</td>\n",
              "      <td>Great charger.  I easily get 3+ charges on a S...</td>\n",
              "    </tr>\n",
              "    <tr>\n",
              "      <th>4</th>\n",
              "      <td>1</td>\n",
              "      <td>Great for the price :-)</td>\n",
              "    </tr>\n",
              "  </tbody>\n",
              "</table>\n",
              "</div>"
            ],
            "text/plain": [
              "   star_rating                                        review_body\n",
              "0           -1  2 issues  -  Once I turned on the circle apps ...\n",
              "1            1  I’m embarrassed to admit that until recently, ...\n",
              "2            1                                 Fits iPhone 6 well\n",
              "3            1  Great charger.  I easily get 3+ charges on a S...\n",
              "4            1                            Great for the price :-)"
            ]
          },
          "metadata": {
            "tags": []
          },
          "execution_count": 87
        }
      ]
    },
    {
      "cell_type": "markdown",
      "metadata": {
        "id": "dpe060fN49ki"
      },
      "source": [
        "#saving it to amazon_reviews-cleaned"
      ]
    },
    {
      "cell_type": "code",
      "metadata": {
        "id": "voV9VDV05IIS"
      },
      "source": [
        "# Export new file from updated data frame\n",
        "sentimentDf.to_csv('./amazon_review-cleaned.csv', index=False)"
      ],
      "execution_count": 89,
      "outputs": []
    }
  ]
}