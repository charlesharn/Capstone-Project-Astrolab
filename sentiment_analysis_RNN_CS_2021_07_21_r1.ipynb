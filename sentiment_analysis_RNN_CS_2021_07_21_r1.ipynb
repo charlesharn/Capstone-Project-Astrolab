{
  "nbformat": 4,
  "nbformat_minor": 0,
  "metadata": {
    "colab": {
      "name": "sentiment_analysis RNN CS 2021-07-21 r1.ipynb",
      "provenance": [],
      "collapsed_sections": []
    },
    "kernelspec": {
      "name": "python3",
      "display_name": "Python 3"
    },
    "language_info": {
      "name": "python"
    }
  },
  "cells": [
    {
      "cell_type": "markdown",
      "metadata": {
        "id": "MgFWYu0y13bM"
      },
      "source": [
        "#Capstone Project - Sentiment Analysis\n",
        "##Milestone No. 3\n",
        " Machine Learning I: Model selection and hyperparameter tuning\n",
        "\n",
        "I have thoroughly prepared the data for model selection "
      ]
    },
    {
      "cell_type": "code",
      "metadata": {
        "id": "99FYeyyM3o5U"
      },
      "source": [
        "# Import libraries\n",
        "import pandas as pd\n",
        "import numpy as np\n",
        "import tensorflow_datasets as tfds\n",
        "import tensorflow as tf\n",
        "import matplotlib.pyplot as plt\n"
      ],
      "execution_count": 1,
      "outputs": []
    },
    {
      "cell_type": "markdown",
      "metadata": {
        "id": "uexhB4GrZVLj"
      },
      "source": [
        "#Section 1 \n",
        "import test and train datasets"
      ]
    },
    {
      "cell_type": "code",
      "metadata": {
        "id": "nHHrcM-L---E"
      },
      "source": [
        "#importing data\n",
        "trainF = pd.read_csv('./Sentiment_Feature_train.csv')\n",
        "train_Df = trainF\n",
        "trainL = pd.read_csv('./Sentiment_Label_train.csv')\n",
        "testF = pd.read_csv('./Sentiment_Feature_test.csv')\n",
        "test_Df = testF \n",
        "testL = pd.read_csv('./Sentiment_Label_test.csv')"
      ],
      "execution_count": 2,
      "outputs": []
    },
    {
      "cell_type": "code",
      "metadata": {
        "id": "o9PDVv4pPBjp"
      },
      "source": [
        "train_Df['star_rating'] = trainL['star_rating']\n",
        "test_Df['star_rating'] = testL['star_rating']"
      ],
      "execution_count": 3,
      "outputs": []
    },
    {
      "cell_type": "code",
      "metadata": {
        "colab": {
          "base_uri": "https://localhost:8080/"
        },
        "id": "5DLRfpGmQn2W",
        "outputId": "016dcbc3-a22a-49b5-b42e-a4f419a190ec"
      },
      "source": [
        "train_Df.info()"
      ],
      "execution_count": 4,
      "outputs": [
        {
          "output_type": "stream",
          "text": [
            "<class 'pandas.core.frame.DataFrame'>\n",
            "RangeIndex: 11029 entries, 0 to 11028\n",
            "Data columns (total 2 columns):\n",
            " #   Column       Non-Null Count  Dtype \n",
            "---  ------       --------------  ----- \n",
            " 0   review_body  11029 non-null  object\n",
            " 1   star_rating  11029 non-null  int64 \n",
            "dtypes: int64(1), object(1)\n",
            "memory usage: 172.5+ KB\n"
          ],
          "name": "stdout"
        }
      ]
    },
    {
      "cell_type": "code",
      "metadata": {
        "colab": {
          "base_uri": "https://localhost:8080/"
        },
        "id": "-jBGtdo8S5VU",
        "outputId": "56901728-8195-44c2-d9af-994030ffa46c"
      },
      "source": [
        "test_Df.info()"
      ],
      "execution_count": 5,
      "outputs": [
        {
          "output_type": "stream",
          "text": [
            "<class 'pandas.core.frame.DataFrame'>\n",
            "RangeIndex: 7353 entries, 0 to 7352\n",
            "Data columns (total 2 columns):\n",
            " #   Column       Non-Null Count  Dtype \n",
            "---  ------       --------------  ----- \n",
            " 0   review_body  7353 non-null   object\n",
            " 1   star_rating  7353 non-null   int64 \n",
            "dtypes: int64(1), object(1)\n",
            "memory usage: 115.0+ KB\n"
          ],
          "name": "stdout"
        }
      ]
    },
    {
      "cell_type": "code",
      "metadata": {
        "id": "-8ci7EDzQ45u"
      },
      "source": [
        "featuresTrain=train_Df['review_body']\n",
        "labelTrain =train_Df['star_rating']\n",
        "\n",
        "featuresTest=test_Df['review_body']\n",
        "labelTest =test_Df['star_rating']"
      ],
      "execution_count": 6,
      "outputs": []
    },
    {
      "cell_type": "markdown",
      "metadata": {
        "id": "DboHnQbU2H7S"
      },
      "source": [
        "#Section 2 - converting from Panda Data set to Tensor data dset\n",
        "\n"
      ]
    },
    {
      "cell_type": "code",
      "metadata": {
        "id": "YWXTn8SPxSWq"
      },
      "source": [
        "trainData = (tf.data.Dataset.from_tensor_slices((featuresTrain.values, labelTrain.values))).prefetch(1)\n",
        "testData = (tf.data.Dataset.from_tensor_slices((featuresTest.values, labelTest.values))).prefetch(1)"
      ],
      "execution_count": 9,
      "outputs": []
    },
    {
      "cell_type": "code",
      "metadata": {
        "colab": {
          "base_uri": "https://localhost:8080/"
        },
        "id": "LGOf1gH4JMi6",
        "outputId": "029690ac-1194-4f7f-b1b0-8905e88a88a2"
      },
      "source": [
        "trainData, testData"
      ],
      "execution_count": 10,
      "outputs": [
        {
          "output_type": "execute_result",
          "data": {
            "text/plain": [
              "(<PrefetchDataset shapes: ((), ()), types: (tf.string, tf.int64)>,\n",
              " <PrefetchDataset shapes: ((), ()), types: (tf.string, tf.int64)>)"
            ]
          },
          "metadata": {
            "tags": []
          },
          "execution_count": 10
        }
      ]
    },
    {
      "cell_type": "code",
      "metadata": {
        "colab": {
          "base_uri": "https://localhost:8080/"
        },
        "id": "nQBHGMv3yIMt",
        "outputId": "8d0568ac-f76a-47d1-b376-61ed3e06493a"
      },
      "source": [
        "#Testing if my panda dataset became tensor dataset successfully\n",
        "\n",
        "for featuresTrain, labelTrain in trainData.take(10):\n",
        "  print('features: {},\\t Target: {}\\n'.format(featuresTrain.numpy(),labelTrain.numpy()))\n",
        " "
      ],
      "execution_count": 11,
      "outputs": [
        {
          "output_type": "stream",
          "text": [
            "features: b'Great for price!',\t Target: 1\n",
            "\n",
            "features: b'Cheap quality and does not fit phone.',\t Target: 0\n",
            "\n",
            "features: b'Sound quality is pretty good (heavy on the bass). They pinch my ears a bit, so if you have a larger head they might not be for you.',\t Target: 1\n",
            "\n",
            "features: b'Heavy duty cable that works with my iPhone 5s. Will buy again.',\t Target: 1\n",
            "\n",
            "features: b'Received product fast and as described',\t Target: 1\n",
            "\n",
            "features: b'Great fit. But pretty slippery.',\t Target: 1\n",
            "\n",
            "features: b\"Worked great for 4 days. Then it wouldn't charge. Every time I tried to charge it, it would reset and just vibrate. Tried to contact the seller, but the language barrier made it all but impossible. Shipped on time and in good condition.\",\t Target: 0\n",
            "\n",
            "features: b'great Product.no instructions but look it up on YouTube',\t Target: 1\n",
            "\n",
            "features: b'I was very satisfied with the delivery time and the product.',\t Target: 1\n",
            "\n",
            "features: b'Like the phone. Still having trouble with downloading photos in messaging.',\t Target: 1\n",
            "\n"
          ],
          "name": "stdout"
        }
      ]
    },
    {
      "cell_type": "markdown",
      "metadata": {
        "id": "Tuxb0zBA9bup"
      },
      "source": [
        "##Milestone No. 4\n",
        " Machine Learning II: Metrics results and documentation\n",
        "\n",
        "I have now to understand how RNN works"
      ]
    },
    {
      "cell_type": "markdown",
      "metadata": {
        "id": "0sb_DjGt4ASb"
      },
      "source": [
        "###Start to prepare for autotuning\n",
        "\n"
      ]
    },
    {
      "cell_type": "code",
      "metadata": {
        "id": "KxNFc6ezVv1e"
      },
      "source": [
        "# bufferSize is the maximum number of tokens in any text input\n",
        "bufferSize = 10000\n",
        "\n",
        "# batchSize is the number of samples to propagate the network\n",
        "batchSize = 64\n",
        "\n",
        "# .shuffle() random suffle of data\n",
        "# .batch() select a batch of samples for the network\n",
        "# .prefetch() cache data while preceeding data is processed\n",
        "\n",
        "trainData = trainData.shuffle(buffer_size=bufferSize).batch(batchSize).prefetch(tf.data.AUTOTUNE)\n",
        "testData = testData.batch(batch_size=batchSize).prefetch(tf.data.AUTOTUNE)"
      ],
      "execution_count": 12,
      "outputs": []
    },
    {
      "cell_type": "markdown",
      "metadata": {
        "id": "znCr6-qJWAtQ"
      },
      "source": [
        "### Text Encoding\n",
        "\n",
        "![alt text](https://miro.medium.com/max/710/0*gi2oD1gtZvfVaeDC)"
      ]
    },
    {
      "cell_type": "code",
      "metadata": {
        "id": "rJ7xEXxjV_iG"
      },
      "source": [
        "# vocabSize is the number of unique of words\n",
        "vocabSize = 1000\n",
        "\n",
        "# TextVectorization will convert words to vector of tokens\n",
        "# For example, go from \"Man on the moon\" to [\"man\", \"on\", \"the\", \"moon\"]\n",
        "encoder = tf.keras.layers.experimental.preprocessing.TextVectorization(max_tokens=vocabSize)\n",
        "\n",
        "# Use .map() to exclude the label and return only the text from data\n",
        "tokensOnly = trainData.map(lambda text, label: text)\n",
        "\n",
        "# .adapt() will apply encoding to tokens only\n",
        "encoder.adapt(tokensOnly)"
      ],
      "execution_count": 13,
      "outputs": []
    },
    {
      "cell_type": "code",
      "metadata": {
        "colab": {
          "base_uri": "https://localhost:8080/"
        },
        "id": "GxUbEycPWKD9",
        "outputId": "c64bb3ea-9777-4b71-c9e3-3ecb99ca2089"
      },
      "source": [
        "encoder"
      ],
      "execution_count": 14,
      "outputs": [
        {
          "output_type": "execute_result",
          "data": {
            "text/plain": [
              "<tensorflow.python.keras.layers.preprocessing.text_vectorization.TextVectorization at 0x7f52eece2350>"
            ]
          },
          "metadata": {
            "tags": []
          },
          "execution_count": 14
        }
      ]
    },
    {
      "cell_type": "code",
      "metadata": {
        "id": "MWWllPJeWOEY"
      },
      "source": [
        "vocab = np.array(encoder.get_vocabulary())"
      ],
      "execution_count": 15,
      "outputs": []
    },
    {
      "cell_type": "code",
      "metadata": {
        "colab": {
          "base_uri": "https://localhost:8080/"
        },
        "id": "HgU62CwqWRI8",
        "outputId": "0f863980-b24b-43d0-af9e-53b6cb03c322"
      },
      "source": [
        "vocab[4:35]"
      ],
      "execution_count": 16,
      "outputs": [
        {
          "output_type": "execute_result",
          "data": {
            "text/plain": [
              "array(['it', 'and', 'a', 'to', 'is', 'my', 'this', 'for', 'of', 'phone',\n",
              "       'in', 'on', 'with', 'case', 'not', 'great', 'that', 'but', 'was',\n",
              "       'have', 'you', 'as', 'very', 'so', 'good', 'one', 'product', 'its',\n",
              "       'works', 'love', 'like'], dtype='<U13')"
            ]
          },
          "metadata": {
            "tags": []
          },
          "execution_count": 16
        }
      ]
    },
    {
      "cell_type": "code",
      "metadata": {
        "colab": {
          "base_uri": "https://localhost:8080/"
        },
        "id": "SpzfXHQOWcvR",
        "outputId": "c7654874-528a-40b9-8f69-03c3950d1e54"
      },
      "source": [
        "encodedExample = encoder(featuresTrain)[4:35].numpy()\n",
        "encodedExample"
      ],
      "execution_count": 17,
      "outputs": [
        {
          "output_type": "execute_result",
          "data": {
            "text/plain": [
              "array([301, 957,  16,   1, 806,  14,   1])"
            ]
          },
          "metadata": {
            "tags": []
          },
          "execution_count": 17
        }
      ]
    },
    {
      "cell_type": "code",
      "metadata": {
        "id": "I3wmAIGqXUva"
      },
      "source": [
        "# Build the RNN\n",
        "# Here, we're using Bidirectional technique, which means\n",
        "# the data (reviews) will be analyzed left-to-right AND\n",
        "# right-to-left\n",
        "modelRNN = tf.keras.Sequential(\n",
        "    [\n",
        "        encoder,\n",
        "        tf.keras.layers.Embedding(\n",
        "            input_dim=len(encoder.get_vocabulary()), \n",
        "            output_dim=64,\n",
        "            mask_zero=True\n",
        "        ),\n",
        "        tf.keras.layers.Bidirectional(tf.keras.layers.LSTM(64)),\n",
        "        tf.keras.layers.Dense(64, activation='relu'),\n",
        "        tf.keras.layers.Dense(64, activation='relu'),\n",
        "        tf.keras.layers.Dense(1),\n",
        "    ]\n",
        ")"
      ],
      "execution_count": 18,
      "outputs": []
    },
    {
      "cell_type": "code",
      "metadata": {
        "id": "4xfctXJKXcvM"
      },
      "source": [
        "modelRNN.compile(\n",
        "    loss=tf.keras.losses.BinaryCrossentropy(from_logits=True), \n",
        "    optimizer='adam', \n",
        "    metrics=['accuracy']\n",
        ")"
      ],
      "execution_count": 19,
      "outputs": []
    },
    {
      "cell_type": "code",
      "metadata": {
        "colab": {
          "base_uri": "https://localhost:8080/"
        },
        "id": "t6mhJ6VFXgYq",
        "outputId": "43cbe4e7-f7d4-4dfd-e36b-abc42529aa57"
      },
      "source": [
        "# I used 6 epochs to attain higher accuracies\n",
        "metrics = modelRNN.fit(\n",
        "    trainData,\n",
        "    epochs=6\n",
        ")"
      ],
      "execution_count": 20,
      "outputs": [
        {
          "output_type": "stream",
          "text": [
            "Epoch 1/6\n",
            "173/173 [==============================] - 119s 630ms/step - loss: 0.3217 - accuracy: 0.8204\n",
            "Epoch 2/6\n",
            "173/173 [==============================] - 110s 635ms/step - loss: 0.1744 - accuracy: 0.9304\n",
            "Epoch 3/6\n",
            "173/173 [==============================] - 106s 615ms/step - loss: 0.1503 - accuracy: 0.9415\n",
            "Epoch 4/6\n",
            "173/173 [==============================] - 107s 619ms/step - loss: 0.1298 - accuracy: 0.9525\n",
            "Epoch 5/6\n",
            "173/173 [==============================] - 105s 606ms/step - loss: 0.1066 - accuracy: 0.9598\n",
            "Epoch 6/6\n",
            "173/173 [==============================] - 109s 630ms/step - loss: 0.0868 - accuracy: 0.9695\n"
          ],
          "name": "stdout"
        }
      ]
    },
    {
      "cell_type": "code",
      "metadata": {
        "id": "9JtavjPu91Q8"
      },
      "source": [
        "#plotting the accuracy and loss \n",
        "#per last run, I was able to attain 96% accuracy and loss of 8.68%"
      ],
      "execution_count": null,
      "outputs": []
    },
    {
      "cell_type": "code",
      "metadata": {
        "colab": {
          "base_uri": "https://localhost:8080/",
          "height": 295
        },
        "id": "kXaBW8jbmYtc",
        "outputId": "6c69baa4-7c1f-4656-e943-c1d24b4bd9e4"
      },
      "source": [
        "plt.plot(metrics.history['accuracy'])\n",
        "plt.plot(metrics.history['loss'])\n",
        "plt.title('model accuracy')\n",
        "plt.ylabel('accuracy')\n",
        "plt.xlabel('epoch')\n",
        "plt.legend(['train', 'test'], loc='upper right')\n",
        "plt.show()"
      ],
      "execution_count": 130,
      "outputs": [
        {
          "output_type": "display_data",
          "data": {
            "image/png": "[encoded data removed]",
            "text/plain": [
              "<Figure size 432x288 with 1 Axes>"
            ]
          },
          "metadata": {
            "tags": [],
            "needs_background": "light"
          }
        }
      ]
    },
    {
      "cell_type": "code",
      "metadata": {
        "colab": {
          "base_uri": "https://localhost:8080/"
        },
        "id": "yxoV3mkUXoY-",
        "outputId": "8786b9f7-6cbf-41bd-a7d8-1f210c76d9d2"
      },
      "source": [
        "# Check metrics after test (evaluate)\n",
        "testLoss, testAccuracy = modelRNN.evaluate(testData)\n",
        "\n",
        "print('Loss: ', testLoss)\n",
        "print('Accuracy: ', testAccuracy)"
      ],
      "execution_count": 22,
      "outputs": [
        {
          "output_type": "stream",
          "text": [
            "115/115 [==============================] - 22s 173ms/step - loss: 0.2770 - accuracy: 0.8965\n",
            "Loss:  0.2770177125930786\n",
            "Accuracy:  0.896504819393158\n"
          ],
          "name": "stdout"
        }
      ]
    },
    {
      "cell_type": "code",
      "metadata": {
        "colab": {
          "base_uri": "https://localhost:8080/",
          "height": 281
        },
        "id": "U3MIFshQXr6e",
        "outputId": "69991e7a-bf8d-4bf9-87a1-e28d0bea57d2"
      },
      "source": [
        "# Visualize the metrics\n",
        "fig, ax = plt.subplots()\n",
        "\n",
        "p1 = ax.bar(0.5, testLoss, 0.21, bottom=None, label='Loss')\n",
        "p2 = ax.bar(0.25, testAccuracy, 0.21, bottom=None, label='Accuracy')\n",
        "\n",
        "ax.axhline(0, color='black', linewidth=0.4)\n",
        "ax.set_ylabel('Accuracy and Loss Scores')\n",
        "ax.set_title('Test Data Metrics')\n",
        "ax.set_xticklabels((' ',  ' '))\n",
        "ax.legend()\n",
        "\n",
        "plt.show()"
      ],
      "execution_count": 129,
      "outputs": [
        {
          "output_type": "display_data",
          "data": {
            "image/png": "[encoded data removed]",
            "text/plain": [
              "<Figure size 432x288 with 1 Axes>"
            ]
          },
          "metadata": {
            "tags": [],
            "needs_background": "light"
          }
        }
      ]
    },
    {
      "cell_type": "code",
      "metadata": {
        "id": "hbOsBVEGXu2a"
      },
      "source": [
        "# Predict a review\n",
        "sampleMovieReview = [\n",
        "    'What a great movie!! Would definitely watch again',\n",
        "    'Trash movie. Who even approved this thing? Terrible acting, terrible directing.'\n",
        "]\n",
        "\n",
        "predictions = modelRNN.predict( np.array(sampleMovieReview) )"
      ],
      "execution_count": 24,
      "outputs": []
    },
    {
      "cell_type": "code",
      "metadata": {
        "colab": {
          "base_uri": "https://localhost:8080/"
        },
        "id": "FrFtWq4rXwuU",
        "outputId": "41f9175b-8599-4266-b3d5-02e393b3b975"
      },
      "source": [
        "print(predictions)"
      ],
      "execution_count": 132,
      "outputs": [
        {
          "output_type": "stream",
          "text": [
            "[[ 4.9881835]\n",
            " [-6.632091 ]]\n"
          ],
          "name": "stdout"
        }
      ]
    }
  ]
}