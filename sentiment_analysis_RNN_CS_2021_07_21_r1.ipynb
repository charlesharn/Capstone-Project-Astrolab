{
  "nbformat": 4,
  "nbformat_minor": 0,
  "metadata": {
    "colab": {
      "name": "sentiment_analysis RNN CS 2021-07-21 r1.ipynb",
      "provenance": [],
      "collapsed_sections": [],
      "include_colab_link": true
    },
    "kernelspec": {
      "name": "python3",
      "display_name": "Python 3"
    },
    "language_info": {
      "name": "python"
    }
  },
  "cells": [
    {
      "cell_type": "markdown",
      "metadata": {
        "id": "view-in-github",
        "colab_type": "text"
      },
      "source": [
        "<a href=\"https://colab.research.google.com/github/charlesharn/Capstone-Project-Astrolab/blob/main/sentiment_analysis_RNN_CS_2021_07_21_r1.ipynb\" target=\"_parent\"><img src=\"https://colab.research.google.com/assets/colab-badge.svg\" alt=\"Open In Colab\"/></a>"
      ]
    },
    {
      "cell_type": "markdown",
      "metadata": {
        "id": "MgFWYu0y13bM"
      },
      "source": [
        "#Capstone Project - Sentiment Analysis\n",
        "##Milestone No. 3\n",
        " Machine Learning I: Model selection and hyperparameter tuning\n",
        "\n",
        "I have thoroughly prepared the data for model selection "
      ]
    },
    {
      "cell_type": "code",
      "metadata": {
        "id": "99FYeyyM3o5U"
      },
      "source": [
        "# Import libraries\n",
        "import pandas as pd\n",
        "import numpy as np\n",
        "\n",
        "import tensorflow_datasets as tfds\n",
        "\n",
        "import tensorflow as tf\n",
        "\n",
        "import matplotlib.pyplot as plt\n"
      ],
      "execution_count": 155,
      "outputs": []
    },
    {
      "cell_type": "markdown",
      "metadata": {
        "id": "uexhB4GrZVLj"
      },
      "source": [
        "#Section 1 \n",
        "import test and train datasets"
      ]
    },
    {
      "cell_type": "code",
      "metadata": {
        "id": "nHHrcM-L---E"
      },
      "source": [
        "#importing data\n",
        "trainF = pd.read_csv('./Sentiment_Feature_train.csv')\n",
        "train_Df = trainF\n",
        "trainL = pd.read_csv('./Sentiment_Label_train.csv')\n",
        "\n",
        "testF = pd.read_csv('./Sentiment_Feature_test.csv')\n",
        "test_Df = testF \n",
        "testL = pd.read_csv('./Sentiment_Label_test.csv')"
      ],
      "execution_count": 156,
      "outputs": []
    },
    {
      "cell_type": "code",
      "metadata": {
        "id": "o9PDVv4pPBjp"
      },
      "source": [
        "train_Df['star_rating'] = trainL['star_rating']\n",
        "test_Df['star_rating'] = testL['star_rating']"
      ],
      "execution_count": 157,
      "outputs": []
    },
    {
      "cell_type": "code",
      "metadata": {
        "colab": {
          "base_uri": "https://localhost:8080/"
        },
        "id": "5DLRfpGmQn2W",
        "outputId": "e362d680-72cf-4e72-d213-4c78769db3b6"
      },
      "source": [
        "train_Df.info()"
      ],
      "execution_count": 158,
      "outputs": [
        {
          "output_type": "stream",
          "text": [
            "<class 'pandas.core.frame.DataFrame'>\n",
            "RangeIndex: 11029 entries, 0 to 11028\n",
            "Data columns (total 2 columns):\n",
            " #   Column       Non-Null Count  Dtype \n",
            "---  ------       --------------  ----- \n",
            " 0   review_body  11029 non-null  object\n",
            " 1   star_rating  11029 non-null  int64 \n",
            "dtypes: int64(1), object(1)\n",
            "memory usage: 172.5+ KB\n"
          ],
          "name": "stdout"
        }
      ]
    },
    {
      "cell_type": "code",
      "metadata": {
        "colab": {
          "base_uri": "https://localhost:8080/"
        },
        "id": "-jBGtdo8S5VU",
        "outputId": "c0e1482a-7b11-432c-d406-ed43f066eb9d"
      },
      "source": [
        "test_Df.info()"
      ],
      "execution_count": 159,
      "outputs": [
        {
          "output_type": "stream",
          "text": [
            "<class 'pandas.core.frame.DataFrame'>\n",
            "RangeIndex: 7353 entries, 0 to 7352\n",
            "Data columns (total 2 columns):\n",
            " #   Column       Non-Null Count  Dtype \n",
            "---  ------       --------------  ----- \n",
            " 0   review_body  7353 non-null   object\n",
            " 1   star_rating  7353 non-null   int64 \n",
            "dtypes: int64(1), object(1)\n",
            "memory usage: 115.0+ KB\n"
          ],
          "name": "stdout"
        }
      ]
    },
    {
      "cell_type": "code",
      "metadata": {
        "id": "-8ci7EDzQ45u"
      },
      "source": [
        "featuresTrain=train_Df['review_body']\n",
        "labelTrain =train_Df['star_rating']\n",
        "\n",
        "featuresTest=test_Df['review_body']\n",
        "labelTest =test_Df['star_rating']"
      ],
      "execution_count": 160,
      "outputs": []
    },
    {
      "cell_type": "code",
      "metadata": {
        "colab": {
          "base_uri": "https://localhost:8080/"
        },
        "id": "8PJqCle2RUxy",
        "outputId": "30a0a597-ad8c-4446-ca07-d1132806a398"
      },
      "source": [
        "featuresTrain"
      ],
      "execution_count": 161,
      "outputs": [
        {
          "output_type": "execute_result",
          "data": {
            "text/plain": [
              "0                                         Great for price!\n",
              "1                    Cheap quality and does not fit phone.\n",
              "2        Sound quality is pretty good (heavy on the bas...\n",
              "3        Heavy duty cable that works with my iPhone 5s....\n",
              "4                   Received product fast and as described\n",
              "                               ...                        \n",
              "11024    Just what I wanted!<br />I was able to follow ...\n",
              "11025                                              Love it\n",
              "11026    This device is worth every penny. In two month...\n",
              "11027    Seems ok so far after 1 month of usage. I did ...\n",
              "11028    I bought this for a friend so I'm not using it...\n",
              "Name: review_body, Length: 11029, dtype: object"
            ]
          },
          "metadata": {
            "tags": []
          },
          "execution_count": 161
        }
      ]
    },
    {
      "cell_type": "code",
      "metadata": {
        "colab": {
          "base_uri": "https://localhost:8080/"
        },
        "id": "oBEzrnQ2RqOd",
        "outputId": "a201bbd3-89e0-4566-8a6b-899c18b76550"
      },
      "source": [
        "labelTrain"
      ],
      "execution_count": 162,
      "outputs": [
        {
          "output_type": "execute_result",
          "data": {
            "text/plain": [
              "0        1\n",
              "1       -1\n",
              "2        1\n",
              "3        1\n",
              "4        1\n",
              "        ..\n",
              "11024    1\n",
              "11025    1\n",
              "11026    1\n",
              "11027    1\n",
              "11028    1\n",
              "Name: star_rating, Length: 11029, dtype: int64"
            ]
          },
          "metadata": {
            "tags": []
          },
          "execution_count": 162
        }
      ]
    },
    {
      "cell_type": "markdown",
      "metadata": {
        "id": "DboHnQbU2H7S"
      },
      "source": [
        "#Section 2 - converting from Panda Data set to Tensor data dset\n",
        "\n"
      ]
    },
    {
      "cell_type": "code",
      "metadata": {
        "id": "YWXTn8SPxSWq"
      },
      "source": [
        "trainData = (tf.data.Dataset.from_tensor_slices((featuresTrain.values, labelTrain.values))).prefetch(1)\n",
        "\n",
        "\n",
        "testData = (tf.data.Dataset.from_tensor_slices((featuresTest.values, labelTest.values))).prefetch(1)"
      ],
      "execution_count": 168,
      "outputs": []
    },
    {
      "cell_type": "code",
      "metadata": {
        "colab": {
          "base_uri": "https://localhost:8080/"
        },
        "id": "LGOf1gH4JMi6",
        "outputId": "5aabe9cc-6088-41c6-84b7-b9f3b93cad0f"
      },
      "source": [
        "trainData"
      ],
      "execution_count": 169,
      "outputs": [
        {
          "output_type": "execute_result",
          "data": {
            "text/plain": [
              "<PrefetchDataset shapes: ((), ()), types: (tf.string, tf.int64)>"
            ]
          },
          "metadata": {
            "tags": []
          },
          "execution_count": 169
        }
      ]
    },
    {
      "cell_type": "code",
      "metadata": {
        "colab": {
          "base_uri": "https://localhost:8080/"
        },
        "id": "TfJaVfkHT0QV",
        "outputId": "1ebe6fcc-c54b-4daa-bee1-bf1af9b82f88"
      },
      "source": [
        "testData"
      ],
      "execution_count": 170,
      "outputs": [
        {
          "output_type": "execute_result",
          "data": {
            "text/plain": [
              "<PrefetchDataset shapes: ((), ()), types: (tf.string, tf.int64)>"
            ]
          },
          "metadata": {
            "tags": []
          },
          "execution_count": 170
        }
      ]
    },
    {
      "cell_type": "code",
      "metadata": {
        "colab": {
          "base_uri": "https://localhost:8080/"
        },
        "id": "nQBHGMv3yIMt",
        "outputId": "6b0c4c0a-410f-4816-a6e1-2da86039b7ff"
      },
      "source": [
        "for featuresTrain, labelTrain in trainData.take(10):\n",
        "  print('features: {},\\t Target: {}\\n'.format(featuresTrain.numpy(),labelTrain.numpy()))\n",
        " "
      ],
      "execution_count": 177,
      "outputs": [
        {
          "output_type": "stream",
          "text": [
            "features: b'Great for price!',\t Target: 1\n",
            "\n",
            "features: b'Cheap quality and does not fit phone.',\t Target: -1\n",
            "\n",
            "features: b'Sound quality is pretty good (heavy on the bass). They pinch my ears a bit, so if you have a larger head they might not be for you.',\t Target: 1\n",
            "\n",
            "features: b'Heavy duty cable that works with my iPhone 5s. Will buy again.',\t Target: 1\n",
            "\n",
            "features: b'Received product fast and as described',\t Target: 1\n",
            "\n",
            "features: b'Great fit. But pretty slippery.',\t Target: 1\n",
            "\n",
            "features: b\"Worked great for 4 days. Then it wouldn't charge. Every time I tried to charge it, it would reset and just vibrate. Tried to contact the seller, but the language barrier made it all but impossible. Shipped on time and in good condition.\",\t Target: -1\n",
            "\n",
            "features: b'great Product.no instructions but look it up on YouTube',\t Target: 1\n",
            "\n",
            "features: b'I was very satisfied with the delivery time and the product.',\t Target: 1\n",
            "\n",
            "features: b'Like the phone. Still having trouble with downloading photos in messaging.',\t Target: 1\n",
            "\n"
          ],
          "name": "stdout"
        }
      ]
    },
    {
      "cell_type": "markdown",
      "metadata": {
        "id": "0sb_DjGt4ASb"
      },
      "source": [
        ""
      ]
    }
  ]
}