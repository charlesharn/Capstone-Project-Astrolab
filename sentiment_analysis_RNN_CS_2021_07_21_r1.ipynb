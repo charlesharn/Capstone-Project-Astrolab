{
  "nbformat": 4,
  "nbformat_minor": 0,
  "metadata": {
    "colab": {
      "name": "sentiment_analysis RNN CS 2021-07-21 r1.ipynb",
      "provenance": [],
      "collapsed_sections": []
    },
    "kernelspec": {
      "name": "python3",
      "display_name": "Python 3"
    },
    "language_info": {
      "name": "python"
    }
  },
  "cells": [
    {
      "cell_type": "markdown",
      "metadata": {
        "id": "MgFWYu0y13bM"
      },
      "source": [
        "#Capstone Project - Sentiment Analysis\n",
        "##Milestone No. 3\n",
        " Machine Learning I: Model selection and hyperparameter tuning\n",
        "\n",
        "I have thoroughly prepared the data for model selection "
      ]
    },
    {
      "cell_type": "code",
      "metadata": {
        "id": "99FYeyyM3o5U"
      },
      "source": [
        "# Import libraries\n",
        "import pandas as pd\n",
        "import numpy as np\n",
        "import tensorflow_datasets as tfds\n",
        "import tensorflow as tf\n",
        "import matplotlib.pyplot as plt\n"
      ],
      "execution_count": 2,
      "outputs": []
    },
    {
      "cell_type": "markdown",
      "metadata": {
        "id": "uexhB4GrZVLj"
      },
      "source": [
        "#Section 1 \n",
        "import test and train datasets"
      ]
    },
    {
      "cell_type": "code",
      "metadata": {
        "id": "nHHrcM-L---E"
      },
      "source": [
        "#importing data\n",
        "trainF = pd.read_csv('./Sentiment_Feature_train.csv')\n",
        "train_Df = trainF\n",
        "trainL = pd.read_csv('./Sentiment_Label_train.csv')\n",
        "testF = pd.read_csv('./Sentiment_Feature_test.csv')\n",
        "test_Df = testF \n",
        "testL = pd.read_csv('./Sentiment_Label_test.csv')"
      ],
      "execution_count": 3,
      "outputs": []
    },
    {
      "cell_type": "code",
      "metadata": {
        "id": "o9PDVv4pPBjp"
      },
      "source": [
        "train_Df['star_rating'] = trainL['star_rating']\n",
        "test_Df['star_rating'] = testL['star_rating']"
      ],
      "execution_count": 4,
      "outputs": []
    },
    {
      "cell_type": "code",
      "metadata": {
        "colab": {
          "base_uri": "https://localhost:8080/"
        },
        "id": "5DLRfpGmQn2W",
        "outputId": "bed0d517-6796-4b57-c2d4-be013d8d7157"
      },
      "source": [
        "train_Df.info()"
      ],
      "execution_count": 5,
      "outputs": [
        {
          "output_type": "stream",
          "text": [
            "<class 'pandas.core.frame.DataFrame'>\n",
            "RangeIndex: 11029 entries, 0 to 11028\n",
            "Data columns (total 2 columns):\n",
            " #   Column       Non-Null Count  Dtype \n",
            "---  ------       --------------  ----- \n",
            " 0   review_body  11029 non-null  object\n",
            " 1   star_rating  11029 non-null  int64 \n",
            "dtypes: int64(1), object(1)\n",
            "memory usage: 172.5+ KB\n"
          ],
          "name": "stdout"
        }
      ]
    },
    {
      "cell_type": "code",
      "metadata": {
        "colab": {
          "base_uri": "https://localhost:8080/"
        },
        "id": "-jBGtdo8S5VU",
        "outputId": "b042513a-836c-4e09-ea7b-3b7646c33673"
      },
      "source": [
        "test_Df.info()"
      ],
      "execution_count": 6,
      "outputs": [
        {
          "output_type": "stream",
          "text": [
            "<class 'pandas.core.frame.DataFrame'>\n",
            "RangeIndex: 7353 entries, 0 to 7352\n",
            "Data columns (total 2 columns):\n",
            " #   Column       Non-Null Count  Dtype \n",
            "---  ------       --------------  ----- \n",
            " 0   review_body  7353 non-null   object\n",
            " 1   star_rating  7353 non-null   int64 \n",
            "dtypes: int64(1), object(1)\n",
            "memory usage: 115.0+ KB\n"
          ],
          "name": "stdout"
        }
      ]
    },
    {
      "cell_type": "code",
      "metadata": {
        "id": "-8ci7EDzQ45u"
      },
      "source": [
        "featuresTrain=train_Df['review_body']\n",
        "labelTrain =train_Df['star_rating']\n",
        "\n",
        "featuresTest=test_Df['review_body']\n",
        "labelTest =test_Df['star_rating']"
      ],
      "execution_count": 7,
      "outputs": []
    },
    {
      "cell_type": "markdown",
      "metadata": {
        "id": "DboHnQbU2H7S"
      },
      "source": [
        "#Section 2 - converting from Panda Data set to Tensor data dset\n",
        "\n"
      ]
    },
    {
      "cell_type": "code",
      "metadata": {
        "id": "YWXTn8SPxSWq"
      },
      "source": [
        "trainData = (tf.data.Dataset.from_tensor_slices((featuresTrain.values, labelTrain.values))).prefetch(1)\n",
        "testData = (tf.data.Dataset.from_tensor_slices((featuresTest.values, labelTest.values))).prefetch(1)"
      ],
      "execution_count": 8,
      "outputs": []
    },
    {
      "cell_type": "code",
      "metadata": {
        "colab": {
          "base_uri": "https://localhost:8080/"
        },
        "id": "LGOf1gH4JMi6",
        "outputId": "29133c54-81d2-4eda-f5f7-66fbb21e8e62"
      },
      "source": [
        "trainData, testData"
      ],
      "execution_count": 9,
      "outputs": [
        {
          "output_type": "execute_result",
          "data": {
            "text/plain": [
              "(<PrefetchDataset shapes: ((), ()), types: (tf.string, tf.int64)>,\n",
              " <PrefetchDataset shapes: ((), ()), types: (tf.string, tf.int64)>)"
            ]
          },
          "metadata": {
            "tags": []
          },
          "execution_count": 9
        }
      ]
    },
    {
      "cell_type": "code",
      "metadata": {
        "colab": {
          "base_uri": "https://localhost:8080/"
        },
        "id": "nQBHGMv3yIMt",
        "outputId": "f1ccc183-f25b-4e67-d13e-d703f8783e6b"
      },
      "source": [
        "#Testing if my panda dataset became tensor dataset successfully\n",
        "\n",
        "for featuresTrain, labelTrain in trainData.take(10):\n",
        "  print('features: {},\\t Target: {}\\n'.format(featuresTrain.numpy(),labelTrain.numpy()))\n",
        " "
      ],
      "execution_count": 10,
      "outputs": [
        {
          "output_type": "stream",
          "text": [
            "features: b'Great for price!',\t Target: 1\n",
            "\n",
            "features: b'Cheap quality and does not fit phone.',\t Target: 0\n",
            "\n",
            "features: b'Sound quality is pretty good (heavy on the bass). They pinch my ears a bit, so if you have a larger head they might not be for you.',\t Target: 1\n",
            "\n",
            "features: b'Heavy duty cable that works with my iPhone 5s. Will buy again.',\t Target: 1\n",
            "\n",
            "features: b'Received product fast and as described',\t Target: 1\n",
            "\n",
            "features: b'Great fit. But pretty slippery.',\t Target: 1\n",
            "\n",
            "features: b\"Worked great for 4 days. Then it wouldn't charge. Every time I tried to charge it, it would reset and just vibrate. Tried to contact the seller, but the language barrier made it all but impossible. Shipped on time and in good condition.\",\t Target: 0\n",
            "\n",
            "features: b'great Product.no instructions but look it up on YouTube',\t Target: 1\n",
            "\n",
            "features: b'I was very satisfied with the delivery time and the product.',\t Target: 1\n",
            "\n",
            "features: b'Like the phone. Still having trouble with downloading photos in messaging.',\t Target: 1\n",
            "\n"
          ],
          "name": "stdout"
        }
      ]
    },
    {
      "cell_type": "markdown",
      "metadata": {
        "id": "Tuxb0zBA9bup"
      },
      "source": [
        "##Milestone No. 4\n",
        " Machine Learning II: Metrics results and documentation\n",
        "\n",
        "I have now to understand how RNN works"
      ]
    },
    {
      "cell_type": "markdown",
      "metadata": {
        "id": "0sb_DjGt4ASb"
      },
      "source": [
        "###Start to prepare for autotuning\n",
        "\n"
      ]
    },
    {
      "cell_type": "code",
      "metadata": {
        "id": "KxNFc6ezVv1e"
      },
      "source": [
        "# bufferSize is the maximum number of tokens in any text input\n",
        "bufferSize = 10000\n",
        "\n",
        "# batchSize is the number of samples to propagate the network\n",
        "batchSize = 64\n",
        "\n",
        "# .shuffle() random suffle of data\n",
        "# .batch() select a batch of samples for the network\n",
        "# .prefetch() cache data while preceeding data is processed\n",
        "\n",
        "trainData = trainData.shuffle(buffer_size=bufferSize).batch(batchSize).prefetch(tf.data.AUTOTUNE)\n",
        "testData = testData.batch(batch_size=batchSize).prefetch(tf.data.AUTOTUNE)"
      ],
      "execution_count": 11,
      "outputs": []
    },
    {
      "cell_type": "markdown",
      "metadata": {
        "id": "znCr6-qJWAtQ"
      },
      "source": [
        "### Text Encoding\n",
        "\n",
        "![alt text](https://miro.medium.com/max/710/0*gi2oD1gtZvfVaeDC)"
      ]
    },
    {
      "cell_type": "code",
      "metadata": {
        "id": "rJ7xEXxjV_iG"
      },
      "source": [
        "# vocabSize is the number of unique of words\n",
        "vocabSize = 1000\n",
        "\n",
        "# TextVectorization will convert words to vector of tokens\n",
        "# For example, go from \"Man on the moon\" to [\"man\", \"on\", \"the\", \"moon\"]\n",
        "encoder = tf.keras.layers.experimental.preprocessing.TextVectorization(max_tokens=vocabSize)\n",
        "\n",
        "# Use .map() to exclude the label and return only the text from data\n",
        "tokensOnly = trainData.map(lambda text, label: text)\n",
        "\n",
        "# .adapt() will apply encoding to tokens only\n",
        "encoder.adapt(tokensOnly)"
      ],
      "execution_count": 12,
      "outputs": []
    },
    {
      "cell_type": "code",
      "metadata": {
        "colab": {
          "base_uri": "https://localhost:8080/"
        },
        "id": "GxUbEycPWKD9",
        "outputId": "1224250c-7304-432b-94c7-fb5966a2ec49"
      },
      "source": [
        "encoder"
      ],
      "execution_count": 13,
      "outputs": [
        {
          "output_type": "execute_result",
          "data": {
            "text/plain": [
              "<tensorflow.python.keras.layers.preprocessing.text_vectorization.TextVectorization at 0x7f591ce54510>"
            ]
          },
          "metadata": {
            "tags": []
          },
          "execution_count": 13
        }
      ]
    },
    {
      "cell_type": "code",
      "metadata": {
        "id": "MWWllPJeWOEY"
      },
      "source": [
        "vocab = np.array(encoder.get_vocabulary())"
      ],
      "execution_count": 14,
      "outputs": []
    },
    {
      "cell_type": "code",
      "metadata": {
        "colab": {
          "base_uri": "https://localhost:8080/"
        },
        "id": "HgU62CwqWRI8",
        "outputId": "16032d29-f3fd-4130-fd9d-da15037bb92b"
      },
      "source": [
        "vocab[4:35]"
      ],
      "execution_count": 15,
      "outputs": [
        {
          "output_type": "execute_result",
          "data": {
            "text/plain": [
              "array(['it', 'and', 'a', 'to', 'is', 'my', 'this', 'for', 'of', 'phone',\n",
              "       'in', 'on', 'with', 'case', 'not', 'great', 'that', 'but', 'was',\n",
              "       'have', 'you', 'as', 'very', 'so', 'good', 'one', 'product', 'its',\n",
              "       'works', 'love', 'like'], dtype='<U13')"
            ]
          },
          "metadata": {
            "tags": []
          },
          "execution_count": 15
        }
      ]
    },
    {
      "cell_type": "code",
      "metadata": {
        "colab": {
          "base_uri": "https://localhost:8080/"
        },
        "id": "SpzfXHQOWcvR",
        "outputId": "1d4b567e-c6d3-4e1b-d0fb-22233164bd9b"
      },
      "source": [
        "encodedExample = encoder(featuresTrain)[4:35].numpy()\n",
        "encodedExample"
      ],
      "execution_count": 16,
      "outputs": [
        {
          "output_type": "execute_result",
          "data": {
            "text/plain": [
              "array([301, 957,  16,   1, 806,  14,   1])"
            ]
          },
          "metadata": {
            "tags": []
          },
          "execution_count": 16
        }
      ]
    },
    {
      "cell_type": "code",
      "metadata": {
        "id": "I3wmAIGqXUva"
      },
      "source": [
        "# Build the RNN\n",
        "# Here, we're using Bidirectional technique, which means\n",
        "# the data (reviews) will be analyzed left-to-right AND\n",
        "# right-to-left\n",
        "modelRNN = tf.keras.Sequential(\n",
        "    [\n",
        "        encoder,\n",
        "        tf.keras.layers.Embedding(\n",
        "            input_dim=len(encoder.get_vocabulary()), \n",
        "            output_dim=64,\n",
        "            mask_zero=True\n",
        "        ),\n",
        "        tf.keras.layers.Bidirectional(tf.keras.layers.LSTM(64)),\n",
        "        tf.keras.layers.Dense(64, activation='relu'),\n",
        "        tf.keras.layers.Dense(64, activation='relu'),\n",
        "        tf.keras.layers.Dense(1),\n",
        "    ]\n",
        ")"
      ],
      "execution_count": 17,
      "outputs": []
    },
    {
      "cell_type": "code",
      "metadata": {
        "id": "4xfctXJKXcvM"
      },
      "source": [
        "modelRNN.compile(\n",
        "    loss=tf.keras.losses.BinaryCrossentropy(from_logits=False, label_smoothing=0), \n",
        "    optimizer='adam', \n",
        "    metrics=['accuracy']\n",
        ")    \n",
        "\n"
      ],
      "execution_count": 26,
      "outputs": []
    },
    {
      "cell_type": "code",
      "metadata": {
        "id": "T7jJtpz2W6dZ"
      },
      "source": [
        ""
      ],
      "execution_count": null,
      "outputs": []
    },
    {
      "cell_type": "markdown",
      "metadata": {
        "id": "DgHZsdSfVoEO"
      },
      "source": [
        "#Use of from_logits= False\n",
        "\n",
        "Use this cross-entropy loss for binary (0 or 1) classification applications. The loss function requires the following inputs:\n",
        "\n",
        "y_true (true label): This is either 0 or 1.\n",
        "y_pred (predicted value): This is the model's prediction, i.e, a single floating-point value which either represents a logit, (i.e, value in [-inf, inf] when from_logits=True) or a probability (i.e, value in [0., 1.] when from_logits=False)."
      ]
    },
    {
      "cell_type": "code",
      "metadata": {
        "colab": {
          "base_uri": "https://localhost:8080/"
        },
        "id": "t6mhJ6VFXgYq",
        "outputId": "33674773-4eb7-45f6-b65f-a61dbae4c634"
      },
      "source": [
        "# I used 6 epochs to attain higher accuracies\n",
        "metrics = modelRNN.fit(\n",
        "    trainData,\n",
        "    epochs=6\n",
        ")"
      ],
      "execution_count": 27,
      "outputs": [
        {
          "output_type": "stream",
          "text": [
            "Epoch 1/6\n",
            "173/173 [==============================] - 103s 541ms/step - loss: 0.6246 - accuracy: 0.7138\n",
            "Epoch 2/6\n",
            "173/173 [==============================] - 95s 547ms/step - loss: 0.2756 - accuracy: 0.9028\n",
            "Epoch 3/6\n",
            "173/173 [==============================] - 96s 554ms/step - loss: 0.2389 - accuracy: 0.9212\n",
            "Epoch 4/6\n",
            "173/173 [==============================] - 96s 551ms/step - loss: 0.2325 - accuracy: 0.9262\n",
            "Epoch 5/6\n",
            "173/173 [==============================] - 96s 549ms/step - loss: 0.1989 - accuracy: 0.9477\n",
            "Epoch 6/6\n",
            "173/173 [==============================] - 95s 548ms/step - loss: 0.2091 - accuracy: 0.9340\n"
          ],
          "name": "stdout"
        }
      ]
    },
    {
      "cell_type": "code",
      "metadata": {
        "id": "9JtavjPu91Q8"
      },
      "source": [
        "#plotting the accuracy and loss \n",
        "#per last run, I was able to attain 96% accuracy and loss of 8.68%"
      ],
      "execution_count": 28,
      "outputs": []
    },
    {
      "cell_type": "code",
      "metadata": {
        "colab": {
          "base_uri": "https://localhost:8080/",
          "height": 310
        },
        "id": "kXaBW8jbmYtc",
        "outputId": "1289e740-d634-4ace-9633-0c40b0e140b0"
      },
      "source": [
        "plt.plot(metrics.history['accuracy'])\n",
        "plt.plot(metrics.history['loss'])\n",
        "plt.title('Train  Data Metrics \\n (Accuracy vs. loss)')\n",
        "plt.ylabel('Accuracy and Loss Scores')\n",
        "plt.xlabel('epoch')\n",
        "plt.legend(['accuracy', 'loss'], loc='upper left')\n",
        "plt.show()"
      ],
      "execution_count": 43,
      "outputs": [
        {
          "output_type": "display_data",
          "data": {
            "image/png": "[encoded data removed]",
            "text/plain": [
              "<Figure size 432x288 with 1 Axes>"
            ]
          },
          "metadata": {
            "tags": [],
            "needs_background": "light"
          }
        }
      ]
    },
    {
      "cell_type": "code",
      "metadata": {
        "colab": {
          "base_uri": "https://localhost:8080/"
        },
        "id": "yxoV3mkUXoY-",
        "outputId": "af1f671f-ec39-4945-884f-92eec1be84be"
      },
      "source": [
        "# Check metrics after test (evaluate)\n",
        "testLoss, testAccuracy = modelRNN.evaluate(testData)\n",
        "\n",
        "print('Loss: ', testLoss)\n",
        "print('Accuracy: ', testAccuracy)"
      ],
      "execution_count": 31,
      "outputs": [
        {
          "output_type": "stream",
          "text": [
            "115/115 [==============================] - 19s 148ms/step - loss: 0.6669 - accuracy: 0.8167\n",
            "Loss:  0.666933000087738\n",
            "Accuracy:  0.8166734576225281\n"
          ],
          "name": "stdout"
        }
      ]
    },
    {
      "cell_type": "code",
      "metadata": {
        "colab": {
          "base_uri": "https://localhost:8080/",
          "height": 296
        },
        "id": "U3MIFshQXr6e",
        "outputId": "236c3542-a0a6-4fbb-9829-d932ef9199d2"
      },
      "source": [
        "# Visualize the metrics\n",
        "fig, ax = plt.subplots()\n",
        "\n",
        "p1 = ax.bar(0.5, testLoss, 0.21, bottom=None, label='Loss')\n",
        "p2 = ax.bar(0.25, testAccuracy, 0.21, bottom=None, label='Accuracy')\n",
        "\n",
        "ax.axhline(0, color='black', linewidth=0.4)\n",
        "ax.set_ylabel('Accuracy and Loss Scores')\n",
        "ax.set_title('Test Data Metrics \\n (Accuracy vs. loss)')\n",
        "ax.set_xticklabels((' ',  ' '))\n",
        "ax.legend()\n",
        "\n",
        "plt.show()"
      ],
      "execution_count": 44,
      "outputs": [
        {
          "output_type": "display_data",
          "data": {
            "image/png": "[encoded data removed]",
            "text/plain": [
              "<Figure size 432x288 with 1 Axes>"
            ]
          },
          "metadata": {
            "tags": [],
            "needs_background": "light"
          }
        }
      ]
    },
    {
      "cell_type": "code",
      "metadata": {
        "id": "hbOsBVEGXu2a"
      },
      "source": [
        "# Predict a review\n",
        "sampleMovieReview = [\n",
        "    'What a great movie!! Would definitely watch again',\n",
        "    'worse bad no not dont '\n",
        "]\n",
        "\n",
        "predictions = modelRNN.predict( np.array(sampleMovieReview) )"
      ],
      "execution_count": 37,
      "outputs": []
    },
    {
      "cell_type": "code",
      "metadata": {
        "colab": {
          "base_uri": "https://localhost:8080/"
        },
        "id": "FrFtWq4rXwuU",
        "outputId": "579804bd-5954-4b4e-86bd-2cb24bfc837d"
      },
      "source": [
        "print(predictions)"
      ],
      "execution_count": 38,
      "outputs": [
        {
          "output_type": "stream",
          "text": [
            "[[0.6934581 ]\n",
            " [0.11027672]]\n"
          ],
          "name": "stdout"
        }
      ]
    }
  ]
}