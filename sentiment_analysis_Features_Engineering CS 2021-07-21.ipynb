{
  "nbformat": 4,
  "nbformat_minor": 0,
  "metadata": {
    "colab": {
      "name": "sentiment_analysis-Features-EngineeringCS.ipynb",
      "provenance": [],
      "collapsed_sections": []
    },
    "kernelspec": {
      "name": "python3",
      "display_name": "Python 3"
    },
    "language_info": {
      "name": "python"
    }
  },
  "cells": [
    {
      "cell_type": "markdown",
      "metadata": {
        "id": "MgFWYu0y13bM"
      },
      "source": [
        "#Capstone Project - Sentiment Analysis\n",
        "##Milestone No. 2\n",
        " Data Engineering II: Exploratory data analysis and feature engineering\n",
        "\n",
        " I would identify that the labe shall be the star_rating and the feature would be the review_body \n",
        "\n",
        " As previously done in Milestone No. 1, Section 2, I reduced the reviews from Postive and Negative with the star_rating  \n",
        "\n",
        "\n",
        " star_rating => 4 to 5 then 1 star_rating = 3 then 0 star_rating = 0 to 2 then -1\n",
        "\n",
        " I would then delete neutral rate \"0\" as this would contribute as false positive or false negative view and double check for null response and clean them as well.\n",
        "\n",
        "then create test data  and train data (60/40)"
      ]
    },
    {
      "cell_type": "code",
      "metadata": {
        "id": "99FYeyyM3o5U"
      },
      "source": [
        "# Import libraries\n",
        "import pandas as pd\n",
        "import numpy as np\n",
        "\n",
        "\n",
        "# The train_test_split method will allow to split files and \n",
        "# randomly sample from the whole data\n",
        "from sklearn.model_selection import train_test_split"
      ],
      "execution_count": 106,
      "outputs": []
    },
    {
      "cell_type": "code",
      "metadata": {
        "id": "nHHrcM-L---E"
      },
      "source": [
        "#importing data\n",
        "sentimentDf = sentimentDf = pd.read_csv('./amazon_review-cleaned.csv')"
      ],
      "execution_count": 107,
      "outputs": []
    },
    {
      "cell_type": "markdown",
      "metadata": {
        "id": "uexhB4GrZVLj"
      },
      "source": [
        "#Section 1 \n",
        "Checking zero false positive and false negative score\n",
        "checking null response."
      ]
    },
    {
      "cell_type": "code",
      "metadata": {
        "colab": {
          "base_uri": "https://localhost:8080/",
          "height": 1000
        },
        "id": "Q9TLTrS-_k3A",
        "outputId": "7e98164c-f93f-4c1c-9fa9-07ea7628f0f7"
      },
      "source": [
        "#check the dataset\n",
        "sentimentDf.head(50)\n",
        "#it can bee sen that there are false positive and false negative comments for 0"
      ],
      "execution_count": 108,
      "outputs": [
        {
          "output_type": "execute_result",
          "data": {
            "text/html": [
              "<div>\n",
              "<style scoped>\n",
              "    .dataframe tbody tr th:only-of-type {\n",
              "        vertical-align: middle;\n",
              "    }\n",
              "\n",
              "    .dataframe tbody tr th {\n",
              "        vertical-align: top;\n",
              "    }\n",
              "\n",
              "    .dataframe thead th {\n",
              "        text-align: right;\n",
              "    }\n",
              "</style>\n",
              "<table border=\"1\" class=\"dataframe\">\n",
              "  <thead>\n",
              "    <tr style=\"text-align: right;\">\n",
              "      <th></th>\n",
              "      <th>star_rating</th>\n",
              "      <th>review_body</th>\n",
              "    </tr>\n",
              "  </thead>\n",
              "  <tbody>\n",
              "    <tr>\n",
              "      <th>0</th>\n",
              "      <td>-1</td>\n",
              "      <td>2 issues  -  Once I turned on the circle apps ...</td>\n",
              "    </tr>\n",
              "    <tr>\n",
              "      <th>1</th>\n",
              "      <td>1</td>\n",
              "      <td>I’m embarrassed to admit that until recently, ...</td>\n",
              "    </tr>\n",
              "    <tr>\n",
              "      <th>2</th>\n",
              "      <td>1</td>\n",
              "      <td>Fits iPhone 6 well</td>\n",
              "    </tr>\n",
              "    <tr>\n",
              "      <th>3</th>\n",
              "      <td>1</td>\n",
              "      <td>Great charger.  I easily get 3+ charges on a S...</td>\n",
              "    </tr>\n",
              "    <tr>\n",
              "      <th>4</th>\n",
              "      <td>1</td>\n",
              "      <td>Great for the price :-)</td>\n",
              "    </tr>\n",
              "    <tr>\n",
              "      <th>5</th>\n",
              "      <td>1</td>\n",
              "      <td>Great Case, better customer service!</td>\n",
              "    </tr>\n",
              "    <tr>\n",
              "      <th>6</th>\n",
              "      <td>1</td>\n",
              "      <td>Easy to set up and use. Great functions for th...</td>\n",
              "    </tr>\n",
              "    <tr>\n",
              "      <th>7</th>\n",
              "      <td>1</td>\n",
              "      <td>Works great</td>\n",
              "    </tr>\n",
              "    <tr>\n",
              "      <th>8</th>\n",
              "      <td>1</td>\n",
              "      <td>So far so good. It is essentially identical to...</td>\n",
              "    </tr>\n",
              "    <tr>\n",
              "      <th>9</th>\n",
              "      <td>0</td>\n",
              "      <td>seems durable but these are always harder to g...</td>\n",
              "    </tr>\n",
              "    <tr>\n",
              "      <th>10</th>\n",
              "      <td>1</td>\n",
              "      <td>Super thin, lightweight, and non intrusive. Fe...</td>\n",
              "    </tr>\n",
              "    <tr>\n",
              "      <th>11</th>\n",
              "      <td>1</td>\n",
              "      <td>As good as the Samsung Galaxies, in my opinion.</td>\n",
              "    </tr>\n",
              "    <tr>\n",
              "      <th>12</th>\n",
              "      <td>1</td>\n",
              "      <td>I received this on time and its great. I went ...</td>\n",
              "    </tr>\n",
              "    <tr>\n",
              "      <th>13</th>\n",
              "      <td>-1</td>\n",
              "      <td>Very cheap case. This not protect anything. Ve...</td>\n",
              "    </tr>\n",
              "    <tr>\n",
              "      <th>14</th>\n",
              "      <td>1</td>\n",
              "      <td>son loves it.</td>\n",
              "    </tr>\n",
              "    <tr>\n",
              "      <th>15</th>\n",
              "      <td>-1</td>\n",
              "      <td>you have to turn power off to this unit once o...</td>\n",
              "    </tr>\n",
              "    <tr>\n",
              "      <th>16</th>\n",
              "      <td>1</td>\n",
              "      <td>Awesome, thank you</td>\n",
              "    </tr>\n",
              "    <tr>\n",
              "      <th>17</th>\n",
              "      <td>1</td>\n",
              "      <td>nice, smart</td>\n",
              "    </tr>\n",
              "    <tr>\n",
              "      <th>18</th>\n",
              "      <td>1</td>\n",
              "      <td>We love these headphones. We had a pair each f...</td>\n",
              "    </tr>\n",
              "    <tr>\n",
              "      <th>19</th>\n",
              "      <td>1</td>\n",
              "      <td>This is well worth the money.</td>\n",
              "    </tr>\n",
              "    <tr>\n",
              "      <th>20</th>\n",
              "      <td>-1</td>\n",
              "      <td>This cord didn't work at all</td>\n",
              "    </tr>\n",
              "    <tr>\n",
              "      <th>21</th>\n",
              "      <td>1</td>\n",
              "      <td>Initial review after having this Kinivo for 48...</td>\n",
              "    </tr>\n",
              "    <tr>\n",
              "      <th>22</th>\n",
              "      <td>1</td>\n",
              "      <td>Great cords!! 10ft cords for this price? And t...</td>\n",
              "    </tr>\n",
              "    <tr>\n",
              "      <th>23</th>\n",
              "      <td>-1</td>\n",
              "      <td>The car plug in broke within a week of using it.</td>\n",
              "    </tr>\n",
              "    <tr>\n",
              "      <th>24</th>\n",
              "      <td>1</td>\n",
              "      <td>Excellent addition to my alcatel one touch pop...</td>\n",
              "    </tr>\n",
              "    <tr>\n",
              "      <th>25</th>\n",
              "      <td>1</td>\n",
              "      <td>Not bad. I LOVE these style of Bluetooth heads...</td>\n",
              "    </tr>\n",
              "    <tr>\n",
              "      <th>26</th>\n",
              "      <td>1</td>\n",
              "      <td>Daughter couldn't go down the river without he...</td>\n",
              "    </tr>\n",
              "    <tr>\n",
              "      <th>27</th>\n",
              "      <td>1</td>\n",
              "      <td>Foam not good, clips ok so far...</td>\n",
              "    </tr>\n",
              "    <tr>\n",
              "      <th>28</th>\n",
              "      <td>-1</td>\n",
              "      <td>right after I posted favorable review I notice...</td>\n",
              "    </tr>\n",
              "    <tr>\n",
              "      <th>29</th>\n",
              "      <td>1</td>\n",
              "      <td>very good</td>\n",
              "    </tr>\n",
              "    <tr>\n",
              "      <th>30</th>\n",
              "      <td>1</td>\n",
              "      <td>ok</td>\n",
              "    </tr>\n",
              "    <tr>\n",
              "      <th>31</th>\n",
              "      <td>1</td>\n",
              "      <td>This product is nicer that I was expecting.  A...</td>\n",
              "    </tr>\n",
              "    <tr>\n",
              "      <th>32</th>\n",
              "      <td>1</td>\n",
              "      <td>the only reason i didn't give this 5 stars was...</td>\n",
              "    </tr>\n",
              "    <tr>\n",
              "      <th>33</th>\n",
              "      <td>1</td>\n",
              "      <td>I purchased this as a gift for my brother who ...</td>\n",
              "    </tr>\n",
              "    <tr>\n",
              "      <th>34</th>\n",
              "      <td>1</td>\n",
              "      <td>excelente</td>\n",
              "    </tr>\n",
              "    <tr>\n",
              "      <th>35</th>\n",
              "      <td>1</td>\n",
              "      <td>The case fits perfectly on my Son's phone. Tha...</td>\n",
              "    </tr>\n",
              "    <tr>\n",
              "      <th>36</th>\n",
              "      <td>-1</td>\n",
              "      <td>It's okay. I like the dreamcatcher graphic a l...</td>\n",
              "    </tr>\n",
              "    <tr>\n",
              "      <th>37</th>\n",
              "      <td>1</td>\n",
              "      <td>Great price and fast shipping highly recommended.</td>\n",
              "    </tr>\n",
              "    <tr>\n",
              "      <th>38</th>\n",
              "      <td>1</td>\n",
              "      <td>I'm not going to tell you that you should buy ...</td>\n",
              "    </tr>\n",
              "    <tr>\n",
              "      <th>39</th>\n",
              "      <td>1</td>\n",
              "      <td>love it</td>\n",
              "    </tr>\n",
              "    <tr>\n",
              "      <th>40</th>\n",
              "      <td>-1</td>\n",
              "      <td>Bought a puretalk prepaid sim card for this ph...</td>\n",
              "    </tr>\n",
              "    <tr>\n",
              "      <th>41</th>\n",
              "      <td>1</td>\n",
              "      <td>&amp;#34;This a great looking and highly functiona...</td>\n",
              "    </tr>\n",
              "    <tr>\n",
              "      <th>42</th>\n",
              "      <td>1</td>\n",
              "      <td>This is my 8th time buying one of these. Not b...</td>\n",
              "    </tr>\n",
              "    <tr>\n",
              "      <th>43</th>\n",
              "      <td>1</td>\n",
              "      <td>Its annoyingly good at reminding me to get up ...</td>\n",
              "    </tr>\n",
              "    <tr>\n",
              "      <th>44</th>\n",
              "      <td>0</td>\n",
              "      <td>Best quality</td>\n",
              "    </tr>\n",
              "    <tr>\n",
              "      <th>45</th>\n",
              "      <td>1</td>\n",
              "      <td>I liked the macro lens the most. So sharp! I g...</td>\n",
              "    </tr>\n",
              "    <tr>\n",
              "      <th>46</th>\n",
              "      <td>1</td>\n",
              "      <td>As past reviewers had indicated, it is a bit b...</td>\n",
              "    </tr>\n",
              "    <tr>\n",
              "      <th>47</th>\n",
              "      <td>1</td>\n",
              "      <td>fits perfect. doesn't interfere with pockets a...</td>\n",
              "    </tr>\n",
              "    <tr>\n",
              "      <th>48</th>\n",
              "      <td>1</td>\n",
              "      <td>Good protection.</td>\n",
              "    </tr>\n",
              "    <tr>\n",
              "      <th>49</th>\n",
              "      <td>1</td>\n",
              "      <td>Fantastic case. Looks slick as can be. The har...</td>\n",
              "    </tr>\n",
              "  </tbody>\n",
              "</table>\n",
              "</div>"
            ],
            "text/plain": [
              "    star_rating                                        review_body\n",
              "0            -1  2 issues  -  Once I turned on the circle apps ...\n",
              "1             1  I’m embarrassed to admit that until recently, ...\n",
              "2             1                                 Fits iPhone 6 well\n",
              "3             1  Great charger.  I easily get 3+ charges on a S...\n",
              "4             1                            Great for the price :-)\n",
              "5             1               Great Case, better customer service!\n",
              "6             1  Easy to set up and use. Great functions for th...\n",
              "7             1                                        Works great\n",
              "8             1  So far so good. It is essentially identical to...\n",
              "9             0  seems durable but these are always harder to g...\n",
              "10            1  Super thin, lightweight, and non intrusive. Fe...\n",
              "11            1    As good as the Samsung Galaxies, in my opinion.\n",
              "12            1  I received this on time and its great. I went ...\n",
              "13           -1  Very cheap case. This not protect anything. Ve...\n",
              "14            1                                      son loves it.\n",
              "15           -1  you have to turn power off to this unit once o...\n",
              "16            1                                 Awesome, thank you\n",
              "17            1                                        nice, smart\n",
              "18            1  We love these headphones. We had a pair each f...\n",
              "19            1                      This is well worth the money.\n",
              "20           -1                       This cord didn't work at all\n",
              "21            1  Initial review after having this Kinivo for 48...\n",
              "22            1  Great cords!! 10ft cords for this price? And t...\n",
              "23           -1   The car plug in broke within a week of using it.\n",
              "24            1  Excellent addition to my alcatel one touch pop...\n",
              "25            1  Not bad. I LOVE these style of Bluetooth heads...\n",
              "26            1  Daughter couldn't go down the river without he...\n",
              "27            1                  Foam not good, clips ok so far...\n",
              "28           -1  right after I posted favorable review I notice...\n",
              "29            1                                          very good\n",
              "30            1                                                 ok\n",
              "31            1  This product is nicer that I was expecting.  A...\n",
              "32            1  the only reason i didn't give this 5 stars was...\n",
              "33            1  I purchased this as a gift for my brother who ...\n",
              "34            1                                          excelente\n",
              "35            1  The case fits perfectly on my Son's phone. Tha...\n",
              "36           -1  It's okay. I like the dreamcatcher graphic a l...\n",
              "37            1  Great price and fast shipping highly recommended.\n",
              "38            1  I'm not going to tell you that you should buy ...\n",
              "39            1                                            love it\n",
              "40           -1  Bought a puretalk prepaid sim card for this ph...\n",
              "41            1  &#34;This a great looking and highly functiona...\n",
              "42            1  This is my 8th time buying one of these. Not b...\n",
              "43            1  Its annoyingly good at reminding me to get up ...\n",
              "44            0                                       Best quality\n",
              "45            1  I liked the macro lens the most. So sharp! I g...\n",
              "46            1  As past reviewers had indicated, it is a bit b...\n",
              "47            1  fits perfect. doesn't interfere with pockets a...\n",
              "48            1                                   Good protection.\n",
              "49            1  Fantastic case. Looks slick as can be. The har..."
            ]
          },
          "metadata": {
            "tags": []
          },
          "execution_count": 108
        }
      ]
    },
    {
      "cell_type": "code",
      "metadata": {
        "colab": {
          "base_uri": "https://localhost:8080/"
        },
        "id": "Dx4yJx_oFPKN",
        "outputId": "d6db3fba-3b67-4b8c-ac50-b688273033e9"
      },
      "source": [
        "sentimentDf.info()"
      ],
      "execution_count": 109,
      "outputs": [
        {
          "output_type": "stream",
          "text": [
            "<class 'pandas.core.frame.DataFrame'>\n",
            "RangeIndex: 19999 entries, 0 to 19998\n",
            "Data columns (total 2 columns):\n",
            " #   Column       Non-Null Count  Dtype \n",
            "---  ------       --------------  ----- \n",
            " 0   star_rating  19999 non-null  int64 \n",
            " 1   review_body  19995 non-null  object\n",
            "dtypes: int64(1), object(1)\n",
            "memory usage: 312.6+ KB\n"
          ],
          "name": "stdout"
        }
      ]
    },
    {
      "cell_type": "markdown",
      "metadata": {
        "id": "U8OKuF_XUgb-"
      },
      "source": [
        "\n",
        "\n"
      ]
    },
    {
      "cell_type": "code",
      "metadata": {
        "id": "EVNqRWchIY7Q"
      },
      "source": [
        "#deleting star_rating = 0\n",
        "sentimentDf =  (sentimentDf[sentimentDf[\"star_rating\"]!=0])"
      ],
      "execution_count": 110,
      "outputs": []
    },
    {
      "cell_type": "code",
      "metadata": {
        "colab": {
          "base_uri": "https://localhost:8080/",
          "height": 173
        },
        "id": "f28g4VFmASM-",
        "outputId": "c525ca63-3fd1-40ad-c46d-578454403d40"
      },
      "source": [
        "#check where review_body = null \n",
        "sentimentDf[ sentimentDf[\"review_body\"].isnull()== True]\n"
      ],
      "execution_count": 111,
      "outputs": [
        {
          "output_type": "execute_result",
          "data": {
            "text/html": [
              "<div>\n",
              "<style scoped>\n",
              "    .dataframe tbody tr th:only-of-type {\n",
              "        vertical-align: middle;\n",
              "    }\n",
              "\n",
              "    .dataframe tbody tr th {\n",
              "        vertical-align: top;\n",
              "    }\n",
              "\n",
              "    .dataframe thead th {\n",
              "        text-align: right;\n",
              "    }\n",
              "</style>\n",
              "<table border=\"1\" class=\"dataframe\">\n",
              "  <thead>\n",
              "    <tr style=\"text-align: right;\">\n",
              "      <th></th>\n",
              "      <th>star_rating</th>\n",
              "      <th>review_body</th>\n",
              "    </tr>\n",
              "  </thead>\n",
              "  <tbody>\n",
              "    <tr>\n",
              "      <th>7675</th>\n",
              "      <td>1</td>\n",
              "      <td>NaN</td>\n",
              "    </tr>\n",
              "    <tr>\n",
              "      <th>13411</th>\n",
              "      <td>-1</td>\n",
              "      <td>NaN</td>\n",
              "    </tr>\n",
              "    <tr>\n",
              "      <th>13491</th>\n",
              "      <td>1</td>\n",
              "      <td>NaN</td>\n",
              "    </tr>\n",
              "    <tr>\n",
              "      <th>17286</th>\n",
              "      <td>1</td>\n",
              "      <td>NaN</td>\n",
              "    </tr>\n",
              "  </tbody>\n",
              "</table>\n",
              "</div>"
            ],
            "text/plain": [
              "       star_rating review_body\n",
              "7675             1         NaN\n",
              "13411           -1         NaN\n",
              "13491            1         NaN\n",
              "17286            1         NaN"
            ]
          },
          "metadata": {
            "tags": []
          },
          "execution_count": 111
        }
      ]
    },
    {
      "cell_type": "code",
      "metadata": {
        "id": "92E4jPbgN0Y8"
      },
      "source": [
        "#deleting null from the dataset\n",
        "sentimentDf = sentimentDf[sentimentDf['review_body'].notna()]"
      ],
      "execution_count": 112,
      "outputs": []
    },
    {
      "cell_type": "code",
      "metadata": {
        "colab": {
          "base_uri": "https://localhost:8080/"
        },
        "id": "4pSRXanvOPjv",
        "outputId": "1da46ab8-898e-4522-9d3a-e555023751c4"
      },
      "source": [
        "#checking again if there are null values in data set\n",
        "\n",
        "sentimentDf.info()"
      ],
      "execution_count": 113,
      "outputs": [
        {
          "output_type": "stream",
          "text": [
            "<class 'pandas.core.frame.DataFrame'>\n",
            "Int64Index: 18382 entries, 0 to 19998\n",
            "Data columns (total 2 columns):\n",
            " #   Column       Non-Null Count  Dtype \n",
            "---  ------       --------------  ----- \n",
            " 0   star_rating  18382 non-null  int64 \n",
            " 1   review_body  18382 non-null  object\n",
            "dtypes: int64(1), object(1)\n",
            "memory usage: 430.8+ KB\n"
          ],
          "name": "stdout"
        }
      ]
    },
    {
      "cell_type": "markdown",
      "metadata": {
        "id": "DboHnQbU2H7S"
      },
      "source": [
        "#Section 2 - Creating Test and train Data\n"
      ]
    },
    {
      "cell_type": "code",
      "metadata": {
        "colab": {
          "base_uri": "https://localhost:8080/",
          "height": 419
        },
        "id": "bBT5F-67y6bl",
        "outputId": "8ea42b66-d4c0-4979-c686-0c887b327cc0"
      },
      "source": [
        "sentimentDf"
      ],
      "execution_count": 114,
      "outputs": [
        {
          "output_type": "execute_result",
          "data": {
            "text/html": [
              "<div>\n",
              "<style scoped>\n",
              "    .dataframe tbody tr th:only-of-type {\n",
              "        vertical-align: middle;\n",
              "    }\n",
              "\n",
              "    .dataframe tbody tr th {\n",
              "        vertical-align: top;\n",
              "    }\n",
              "\n",
              "    .dataframe thead th {\n",
              "        text-align: right;\n",
              "    }\n",
              "</style>\n",
              "<table border=\"1\" class=\"dataframe\">\n",
              "  <thead>\n",
              "    <tr style=\"text-align: right;\">\n",
              "      <th></th>\n",
              "      <th>star_rating</th>\n",
              "      <th>review_body</th>\n",
              "    </tr>\n",
              "  </thead>\n",
              "  <tbody>\n",
              "    <tr>\n",
              "      <th>0</th>\n",
              "      <td>-1</td>\n",
              "      <td>2 issues  -  Once I turned on the circle apps ...</td>\n",
              "    </tr>\n",
              "    <tr>\n",
              "      <th>1</th>\n",
              "      <td>1</td>\n",
              "      <td>I’m embarrassed to admit that until recently, ...</td>\n",
              "    </tr>\n",
              "    <tr>\n",
              "      <th>2</th>\n",
              "      <td>1</td>\n",
              "      <td>Fits iPhone 6 well</td>\n",
              "    </tr>\n",
              "    <tr>\n",
              "      <th>3</th>\n",
              "      <td>1</td>\n",
              "      <td>Great charger.  I easily get 3+ charges on a S...</td>\n",
              "    </tr>\n",
              "    <tr>\n",
              "      <th>4</th>\n",
              "      <td>1</td>\n",
              "      <td>Great for the price :-)</td>\n",
              "    </tr>\n",
              "    <tr>\n",
              "      <th>...</th>\n",
              "      <td>...</td>\n",
              "      <td>...</td>\n",
              "    </tr>\n",
              "    <tr>\n",
              "      <th>19994</th>\n",
              "      <td>1</td>\n",
              "      <td>I love the way that I can easily dial up a num...</td>\n",
              "    </tr>\n",
              "    <tr>\n",
              "      <th>19995</th>\n",
              "      <td>1</td>\n",
              "      <td>purchased for my husband, a general contractor...</td>\n",
              "    </tr>\n",
              "    <tr>\n",
              "      <th>19996</th>\n",
              "      <td>1</td>\n",
              "      <td>Not sure if I wanted a wallet type case, but a...</td>\n",
              "    </tr>\n",
              "    <tr>\n",
              "      <th>19997</th>\n",
              "      <td>1</td>\n",
              "      <td>Great case for the price... I used it for abou...</td>\n",
              "    </tr>\n",
              "    <tr>\n",
              "      <th>19998</th>\n",
              "      <td>1</td>\n",
              "      <td>works great!</td>\n",
              "    </tr>\n",
              "  </tbody>\n",
              "</table>\n",
              "<p>18382 rows × 2 columns</p>\n",
              "</div>"
            ],
            "text/plain": [
              "       star_rating                                        review_body\n",
              "0               -1  2 issues  -  Once I turned on the circle apps ...\n",
              "1                1  I’m embarrassed to admit that until recently, ...\n",
              "2                1                                 Fits iPhone 6 well\n",
              "3                1  Great charger.  I easily get 3+ charges on a S...\n",
              "4                1                            Great for the price :-)\n",
              "...            ...                                                ...\n",
              "19994            1  I love the way that I can easily dial up a num...\n",
              "19995            1  purchased for my husband, a general contractor...\n",
              "19996            1  Not sure if I wanted a wallet type case, but a...\n",
              "19997            1  Great case for the price... I used it for abou...\n",
              "19998            1                                       works great!\n",
              "\n",
              "[18382 rows x 2 columns]"
            ]
          },
          "metadata": {
            "tags": []
          },
          "execution_count": 114
        }
      ]
    },
    {
      "cell_type": "code",
      "metadata": {
        "id": "5VOisJfo4qdx"
      },
      "source": [
        "##Create two dataframes, sentimentFeature and sentimentLabel\n",
        "sentimentLabel = sentimentDf['star_rating']\n",
        "sentimentFeature = sentimentDf['review_body']\n",
        "\n",
        "#split into 60/40 train and test.\n",
        "\n",
        "sTrainF, sTestF, sTrainL, sTestL = train_test_split(sentimentFeature,sentimentLabel, test_size=0.4, random_state = 12034)"
      ],
      "execution_count": 115,
      "outputs": []
    },
    {
      "cell_type": "code",
      "metadata": {
        "id": "9NPuOC4c8UMu",
        "outputId": "82cfccdc-964e-4812-8f3c-dad4749afca6",
        "colab": {
          "base_uri": "https://localhost:8080/"
        }
      },
      "source": [
        "for dataset in [sTestF,sTrainF]:\n",
        "  ratio = round(len(dataset)/len(sentimentFeature),2)\n",
        "  print(ratio)"
      ],
      "execution_count": 116,
      "outputs": [
        {
          "output_type": "stream",
          "text": [
            "0.4\n",
            "0.6\n"
          ],
          "name": "stdout"
        }
      ]
    },
    {
      "cell_type": "code",
      "metadata": {
        "id": "-4MHvTEH9Pjx"
      },
      "source": [
        "#exporting to CSV\n",
        "\n",
        "#train (60%)\n",
        "sTrainF.to_csv('./Sentiment_Feature_train.csv', index=False)\n",
        "sTestF.to_csv('./Sentiment_Feature_test.csv', index=False)\n",
        "\n",
        "#test (40%)\n",
        "sTrainL.to_csv('./Sentiment_Label_train.csv', index=False)\n",
        "sTestL.to_csv('./Sentiment_Label_test.csv', index=False)"
      ],
      "execution_count": 119,
      "outputs": []
    }
  ]
}